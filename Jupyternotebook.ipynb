{
 "cells": [
  {
   "cell_type": "markdown",
   "id": "0dd1206d-7edc-4afe-9447-8faba13a614a",
   "metadata": {},
   "source": [
    "IMPORT LIBRARY"
   ]
  },
  {
   "cell_type": "code",
   "execution_count": 3,
   "id": "e84959ec-5ec1-4399-9b7a-a2e52149406f",
   "metadata": {},
   "outputs": [],
   "source": [
    "import numpy as np\n",
    "import pandas as pd\n",
    "\n",
    "from datetime import datetime"
   ]
  },
  {
   "cell_type": "code",
   "execution_count": 4,
   "id": "bd17da0c-f02d-4223-80cc-94d29897be4a",
   "metadata": {},
   "outputs": [
    {
     "name": "stderr",
     "output_type": "stream",
     "text": [
      "C:\\Users\\lenovo\\AppData\\Local\\Temp\\ipykernel_11140\\197789132.py:2: DtypeWarning: Columns (20) have mixed types. Specify dtype option on import or set low_memory=False.\n",
      "  df = pd.read_csv('loan_data_2007_2014.csv')\n"
     ]
    }
   ],
   "source": [
    "# Membaca csv file\n",
    "df = pd.read_csv('loan_data_2007_2014.csv')"
   ]
  },
  {
   "cell_type": "code",
   "execution_count": 5,
   "id": "02bf8b64-a9ef-46d7-832c-b029d75bd306",
   "metadata": {},
   "outputs": [
    {
     "data": {
      "text/html": [
       "<div>\n",
       "<style scoped>\n",
       "    .dataframe tbody tr th:only-of-type {\n",
       "        vertical-align: middle;\n",
       "    }\n",
       "\n",
       "    .dataframe tbody tr th {\n",
       "        vertical-align: top;\n",
       "    }\n",
       "\n",
       "    .dataframe thead th {\n",
       "        text-align: right;\n",
       "    }\n",
       "</style>\n",
       "<table border=\"1\" class=\"dataframe\">\n",
       "  <thead>\n",
       "    <tr style=\"text-align: right;\">\n",
       "      <th></th>\n",
       "      <th>Unnamed: 0</th>\n",
       "      <th>id</th>\n",
       "      <th>member_id</th>\n",
       "      <th>loan_amnt</th>\n",
       "      <th>funded_amnt</th>\n",
       "      <th>funded_amnt_inv</th>\n",
       "      <th>term</th>\n",
       "      <th>int_rate</th>\n",
       "      <th>installment</th>\n",
       "      <th>grade</th>\n",
       "      <th>...</th>\n",
       "      <th>total_bal_il</th>\n",
       "      <th>il_util</th>\n",
       "      <th>open_rv_12m</th>\n",
       "      <th>open_rv_24m</th>\n",
       "      <th>max_bal_bc</th>\n",
       "      <th>all_util</th>\n",
       "      <th>total_rev_hi_lim</th>\n",
       "      <th>inq_fi</th>\n",
       "      <th>total_cu_tl</th>\n",
       "      <th>inq_last_12m</th>\n",
       "    </tr>\n",
       "  </thead>\n",
       "  <tbody>\n",
       "    <tr>\n",
       "      <th>0</th>\n",
       "      <td>0</td>\n",
       "      <td>1077501</td>\n",
       "      <td>1296599</td>\n",
       "      <td>5000</td>\n",
       "      <td>5000</td>\n",
       "      <td>4975.0</td>\n",
       "      <td>36 months</td>\n",
       "      <td>10.65</td>\n",
       "      <td>162.87</td>\n",
       "      <td>B</td>\n",
       "      <td>...</td>\n",
       "      <td>NaN</td>\n",
       "      <td>NaN</td>\n",
       "      <td>NaN</td>\n",
       "      <td>NaN</td>\n",
       "      <td>NaN</td>\n",
       "      <td>NaN</td>\n",
       "      <td>NaN</td>\n",
       "      <td>NaN</td>\n",
       "      <td>NaN</td>\n",
       "      <td>NaN</td>\n",
       "    </tr>\n",
       "    <tr>\n",
       "      <th>1</th>\n",
       "      <td>1</td>\n",
       "      <td>1077430</td>\n",
       "      <td>1314167</td>\n",
       "      <td>2500</td>\n",
       "      <td>2500</td>\n",
       "      <td>2500.0</td>\n",
       "      <td>60 months</td>\n",
       "      <td>15.27</td>\n",
       "      <td>59.83</td>\n",
       "      <td>C</td>\n",
       "      <td>...</td>\n",
       "      <td>NaN</td>\n",
       "      <td>NaN</td>\n",
       "      <td>NaN</td>\n",
       "      <td>NaN</td>\n",
       "      <td>NaN</td>\n",
       "      <td>NaN</td>\n",
       "      <td>NaN</td>\n",
       "      <td>NaN</td>\n",
       "      <td>NaN</td>\n",
       "      <td>NaN</td>\n",
       "    </tr>\n",
       "    <tr>\n",
       "      <th>2</th>\n",
       "      <td>2</td>\n",
       "      <td>1077175</td>\n",
       "      <td>1313524</td>\n",
       "      <td>2400</td>\n",
       "      <td>2400</td>\n",
       "      <td>2400.0</td>\n",
       "      <td>36 months</td>\n",
       "      <td>15.96</td>\n",
       "      <td>84.33</td>\n",
       "      <td>C</td>\n",
       "      <td>...</td>\n",
       "      <td>NaN</td>\n",
       "      <td>NaN</td>\n",
       "      <td>NaN</td>\n",
       "      <td>NaN</td>\n",
       "      <td>NaN</td>\n",
       "      <td>NaN</td>\n",
       "      <td>NaN</td>\n",
       "      <td>NaN</td>\n",
       "      <td>NaN</td>\n",
       "      <td>NaN</td>\n",
       "    </tr>\n",
       "    <tr>\n",
       "      <th>3</th>\n",
       "      <td>3</td>\n",
       "      <td>1076863</td>\n",
       "      <td>1277178</td>\n",
       "      <td>10000</td>\n",
       "      <td>10000</td>\n",
       "      <td>10000.0</td>\n",
       "      <td>36 months</td>\n",
       "      <td>13.49</td>\n",
       "      <td>339.31</td>\n",
       "      <td>C</td>\n",
       "      <td>...</td>\n",
       "      <td>NaN</td>\n",
       "      <td>NaN</td>\n",
       "      <td>NaN</td>\n",
       "      <td>NaN</td>\n",
       "      <td>NaN</td>\n",
       "      <td>NaN</td>\n",
       "      <td>NaN</td>\n",
       "      <td>NaN</td>\n",
       "      <td>NaN</td>\n",
       "      <td>NaN</td>\n",
       "    </tr>\n",
       "    <tr>\n",
       "      <th>4</th>\n",
       "      <td>4</td>\n",
       "      <td>1075358</td>\n",
       "      <td>1311748</td>\n",
       "      <td>3000</td>\n",
       "      <td>3000</td>\n",
       "      <td>3000.0</td>\n",
       "      <td>60 months</td>\n",
       "      <td>12.69</td>\n",
       "      <td>67.79</td>\n",
       "      <td>B</td>\n",
       "      <td>...</td>\n",
       "      <td>NaN</td>\n",
       "      <td>NaN</td>\n",
       "      <td>NaN</td>\n",
       "      <td>NaN</td>\n",
       "      <td>NaN</td>\n",
       "      <td>NaN</td>\n",
       "      <td>NaN</td>\n",
       "      <td>NaN</td>\n",
       "      <td>NaN</td>\n",
       "      <td>NaN</td>\n",
       "    </tr>\n",
       "  </tbody>\n",
       "</table>\n",
       "<p>5 rows × 75 columns</p>\n",
       "</div>"
      ],
      "text/plain": [
       "   Unnamed: 0       id  member_id  loan_amnt  funded_amnt  funded_amnt_inv  \\\n",
       "0           0  1077501    1296599       5000         5000           4975.0   \n",
       "1           1  1077430    1314167       2500         2500           2500.0   \n",
       "2           2  1077175    1313524       2400         2400           2400.0   \n",
       "3           3  1076863    1277178      10000        10000          10000.0   \n",
       "4           4  1075358    1311748       3000         3000           3000.0   \n",
       "\n",
       "         term  int_rate  installment grade  ... total_bal_il il_util  \\\n",
       "0   36 months     10.65       162.87     B  ...          NaN     NaN   \n",
       "1   60 months     15.27        59.83     C  ...          NaN     NaN   \n",
       "2   36 months     15.96        84.33     C  ...          NaN     NaN   \n",
       "3   36 months     13.49       339.31     C  ...          NaN     NaN   \n",
       "4   60 months     12.69        67.79     B  ...          NaN     NaN   \n",
       "\n",
       "  open_rv_12m open_rv_24m  max_bal_bc all_util total_rev_hi_lim inq_fi  \\\n",
       "0         NaN         NaN         NaN      NaN              NaN    NaN   \n",
       "1         NaN         NaN         NaN      NaN              NaN    NaN   \n",
       "2         NaN         NaN         NaN      NaN              NaN    NaN   \n",
       "3         NaN         NaN         NaN      NaN              NaN    NaN   \n",
       "4         NaN         NaN         NaN      NaN              NaN    NaN   \n",
       "\n",
       "  total_cu_tl inq_last_12m  \n",
       "0         NaN          NaN  \n",
       "1         NaN          NaN  \n",
       "2         NaN          NaN  \n",
       "3         NaN          NaN  \n",
       "4         NaN          NaN  \n",
       "\n",
       "[5 rows x 75 columns]"
      ]
     },
     "execution_count": 5,
     "metadata": {},
     "output_type": "execute_result"
    }
   ],
   "source": [
    "# Melihat 5 baris pertama\n",
    "df.head()"
   ]
  },
  {
   "cell_type": "code",
   "execution_count": 6,
   "id": "6eb0dd9c-c0b5-4908-be79-61497d9be8a8",
   "metadata": {},
   "outputs": [
    {
     "data": {
      "text/plain": [
       "(466285, 75)"
      ]
     },
     "execution_count": 6,
     "metadata": {},
     "output_type": "execute_result"
    }
   ],
   "source": [
    "# Melihat total baris dan kolom\n",
    "df.shape"
   ]
  },
  {
   "cell_type": "code",
   "execution_count": 7,
   "id": "83aa9e00-9b1e-4ed8-a288-f7ef8f82a160",
   "metadata": {},
   "outputs": [
    {
     "name": "stdout",
     "output_type": "stream",
     "text": [
      "<class 'pandas.core.frame.DataFrame'>\n",
      "RangeIndex: 466285 entries, 0 to 466284\n",
      "Data columns (total 75 columns):\n",
      " #   Column                       Non-Null Count   Dtype  \n",
      "---  ------                       --------------   -----  \n",
      " 0   Unnamed: 0                   466285 non-null  int64  \n",
      " 1   id                           466285 non-null  int64  \n",
      " 2   member_id                    466285 non-null  int64  \n",
      " 3   loan_amnt                    466285 non-null  int64  \n",
      " 4   funded_amnt                  466285 non-null  int64  \n",
      " 5   funded_amnt_inv              466285 non-null  float64\n",
      " 6   term                         466285 non-null  object \n",
      " 7   int_rate                     466285 non-null  float64\n",
      " 8   installment                  466285 non-null  float64\n",
      " 9   grade                        466285 non-null  object \n",
      " 10  sub_grade                    466285 non-null  object \n",
      " 11  emp_title                    438697 non-null  object \n",
      " 12  emp_length                   445277 non-null  object \n",
      " 13  home_ownership               466285 non-null  object \n",
      " 14  annual_inc                   466281 non-null  float64\n",
      " 15  verification_status          466285 non-null  object \n",
      " 16  issue_d                      466285 non-null  object \n",
      " 17  loan_status                  466285 non-null  object \n",
      " 18  pymnt_plan                   466285 non-null  object \n",
      " 19  url                          466285 non-null  object \n",
      " 20  desc                         125981 non-null  object \n",
      " 21  purpose                      466285 non-null  object \n",
      " 22  title                        466264 non-null  object \n",
      " 23  zip_code                     466285 non-null  object \n",
      " 24  addr_state                   466285 non-null  object \n",
      " 25  dti                          466285 non-null  float64\n",
      " 26  delinq_2yrs                  466256 non-null  float64\n",
      " 27  earliest_cr_line             466256 non-null  object \n",
      " 28  inq_last_6mths               466256 non-null  float64\n",
      " 29  mths_since_last_delinq       215934 non-null  float64\n",
      " 30  mths_since_last_record       62638 non-null   float64\n",
      " 31  open_acc                     466256 non-null  float64\n",
      " 32  pub_rec                      466256 non-null  float64\n",
      " 33  revol_bal                    466285 non-null  int64  \n",
      " 34  revol_util                   465945 non-null  float64\n",
      " 35  total_acc                    466256 non-null  float64\n",
      " 36  initial_list_status          466285 non-null  object \n",
      " 37  out_prncp                    466285 non-null  float64\n",
      " 38  out_prncp_inv                466285 non-null  float64\n",
      " 39  total_pymnt                  466285 non-null  float64\n",
      " 40  total_pymnt_inv              466285 non-null  float64\n",
      " 41  total_rec_prncp              466285 non-null  float64\n",
      " 42  total_rec_int                466285 non-null  float64\n",
      " 43  total_rec_late_fee           466285 non-null  float64\n",
      " 44  recoveries                   466285 non-null  float64\n",
      " 45  collection_recovery_fee      466285 non-null  float64\n",
      " 46  last_pymnt_d                 465909 non-null  object \n",
      " 47  last_pymnt_amnt              466285 non-null  float64\n",
      " 48  next_pymnt_d                 239071 non-null  object \n",
      " 49  last_credit_pull_d           466243 non-null  object \n",
      " 50  collections_12_mths_ex_med   466140 non-null  float64\n",
      " 51  mths_since_last_major_derog  98974 non-null   float64\n",
      " 52  policy_code                  466285 non-null  int64  \n",
      " 53  application_type             466285 non-null  object \n",
      " 54  annual_inc_joint             0 non-null       float64\n",
      " 55  dti_joint                    0 non-null       float64\n",
      " 56  verification_status_joint    0 non-null       float64\n",
      " 57  acc_now_delinq               466256 non-null  float64\n",
      " 58  tot_coll_amt                 396009 non-null  float64\n",
      " 59  tot_cur_bal                  396009 non-null  float64\n",
      " 60  open_acc_6m                  0 non-null       float64\n",
      " 61  open_il_6m                   0 non-null       float64\n",
      " 62  open_il_12m                  0 non-null       float64\n",
      " 63  open_il_24m                  0 non-null       float64\n",
      " 64  mths_since_rcnt_il           0 non-null       float64\n",
      " 65  total_bal_il                 0 non-null       float64\n",
      " 66  il_util                      0 non-null       float64\n",
      " 67  open_rv_12m                  0 non-null       float64\n",
      " 68  open_rv_24m                  0 non-null       float64\n",
      " 69  max_bal_bc                   0 non-null       float64\n",
      " 70  all_util                     0 non-null       float64\n",
      " 71  total_rev_hi_lim             396009 non-null  float64\n",
      " 72  inq_fi                       0 non-null       float64\n",
      " 73  total_cu_tl                  0 non-null       float64\n",
      " 74  inq_last_12m                 0 non-null       float64\n",
      "dtypes: float64(46), int64(7), object(22)\n",
      "memory usage: 266.8+ MB\n"
     ]
    }
   ],
   "source": [
    "# Melihat info seluruh kolom\n",
    "df.info()"
   ]
  },
  {
   "cell_type": "code",
   "execution_count": 8,
   "id": "267be60a-9ce3-4a99-983b-1abb47f51fc8",
   "metadata": {},
   "outputs": [
    {
     "data": {
      "text/plain": [
       "array(['Fully Paid', 'Charged Off', 'Current', 'Default',\n",
       "       'Late (31-120 days)', 'In Grace Period', 'Late (16-30 days)',\n",
       "       'Does not meet the credit policy. Status:Fully Paid',\n",
       "       'Does not meet the credit policy. Status:Charged Off'],\n",
       "      dtype=object)"
      ]
     },
     "execution_count": 8,
     "metadata": {},
     "output_type": "execute_result"
    }
   ],
   "source": [
    "# Melihat unique values pada feature loan_status\n",
    "df.loan_status.unique()"
   ]
  },
  {
   "cell_type": "code",
   "execution_count": 9,
   "id": "485c311a-dfd9-4f3e-b97f-a0638007ba1c",
   "metadata": {},
   "outputs": [],
   "source": [
    "# Membuat feature baru yaitu good_bad sebagai target variable,\n",
    "# Jika loan_statusnya 'Charged Off', 'Default', 'Late (31-120 days)', 'Late (16-30 days)' \n",
    "# akan dianggap sebagai bad_loan atau 1 dan nilai selain itu akan dianggap good loan atau 0\n",
    "df['good_bad'] = np.where(df.loc[:, 'loan_status']. isin(['Charged Off', 'Default', 'Late (31-120 days)', 'Late (16-30 days)', 'Does not meet the credit policy. Status:Charged Off']), 1 , 0)"
   ]
  },
  {
   "cell_type": "code",
   "execution_count": 10,
   "id": "fed7dbcd-802a-4340-94df-a095b0af1ddf",
   "metadata": {},
   "outputs": [
    {
     "data": {
      "text/plain": [
       "good_bad\n",
       "0    414099\n",
       "1     52186\n",
       "Name: count, dtype: int64"
      ]
     },
     "execution_count": 10,
     "metadata": {},
     "output_type": "execute_result"
    }
   ],
   "source": [
    "# Melihat distribusi 0 dan 1\n",
    "df.good_bad.value_counts()"
   ]
  },
  {
   "cell_type": "code",
   "execution_count": 11,
   "id": "ff9e9bad-590b-4c89-92f4-3bde2823ef20",
   "metadata": {},
   "outputs": [
    {
     "data": {
      "text/html": [
       "<div>\n",
       "<style scoped>\n",
       "    .dataframe tbody tr th:only-of-type {\n",
       "        vertical-align: middle;\n",
       "    }\n",
       "\n",
       "    .dataframe tbody tr th {\n",
       "        vertical-align: top;\n",
       "    }\n",
       "\n",
       "    .dataframe thead th {\n",
       "        text-align: right;\n",
       "    }\n",
       "</style>\n",
       "<table border=\"1\" class=\"dataframe\">\n",
       "  <thead>\n",
       "    <tr style=\"text-align: right;\">\n",
       "      <th></th>\n",
       "      <th>loan_status</th>\n",
       "      <th>good_bad</th>\n",
       "    </tr>\n",
       "  </thead>\n",
       "  <tbody>\n",
       "    <tr>\n",
       "      <th>0</th>\n",
       "      <td>Fully Paid</td>\n",
       "      <td>0</td>\n",
       "    </tr>\n",
       "    <tr>\n",
       "      <th>1</th>\n",
       "      <td>Charged Off</td>\n",
       "      <td>1</td>\n",
       "    </tr>\n",
       "    <tr>\n",
       "      <th>2</th>\n",
       "      <td>Fully Paid</td>\n",
       "      <td>0</td>\n",
       "    </tr>\n",
       "    <tr>\n",
       "      <th>3</th>\n",
       "      <td>Fully Paid</td>\n",
       "      <td>0</td>\n",
       "    </tr>\n",
       "    <tr>\n",
       "      <th>4</th>\n",
       "      <td>Current</td>\n",
       "      <td>0</td>\n",
       "    </tr>\n",
       "    <tr>\n",
       "      <th>...</th>\n",
       "      <td>...</td>\n",
       "      <td>...</td>\n",
       "    </tr>\n",
       "    <tr>\n",
       "      <th>466280</th>\n",
       "      <td>Current</td>\n",
       "      <td>0</td>\n",
       "    </tr>\n",
       "    <tr>\n",
       "      <th>466281</th>\n",
       "      <td>Charged Off</td>\n",
       "      <td>1</td>\n",
       "    </tr>\n",
       "    <tr>\n",
       "      <th>466282</th>\n",
       "      <td>Current</td>\n",
       "      <td>0</td>\n",
       "    </tr>\n",
       "    <tr>\n",
       "      <th>466283</th>\n",
       "      <td>Fully Paid</td>\n",
       "      <td>0</td>\n",
       "    </tr>\n",
       "    <tr>\n",
       "      <th>466284</th>\n",
       "      <td>Current</td>\n",
       "      <td>0</td>\n",
       "    </tr>\n",
       "  </tbody>\n",
       "</table>\n",
       "<p>466285 rows × 2 columns</p>\n",
       "</div>"
      ],
      "text/plain": [
       "        loan_status  good_bad\n",
       "0        Fully Paid         0\n",
       "1       Charged Off         1\n",
       "2        Fully Paid         0\n",
       "3        Fully Paid         0\n",
       "4           Current         0\n",
       "...             ...       ...\n",
       "466280      Current         0\n",
       "466281  Charged Off         1\n",
       "466282      Current         0\n",
       "466283   Fully Paid         0\n",
       "466284      Current         0\n",
       "\n",
       "[466285 rows x 2 columns]"
      ]
     },
     "execution_count": 11,
     "metadata": {},
     "output_type": "execute_result"
    }
   ],
   "source": [
    "df[['loan_status', 'good_bad']]"
   ]
  },
  {
   "cell_type": "markdown",
   "id": "e3521b46-6572-46a3-a71b-29a0eb1bc75f",
   "metadata": {},
   "source": [
    "MISSING VALUE\n",
    "\n",
    "Men drop feature yang memiliki missing values lebih dari 50%, karena jika ingin diisi dengan nilai lain seperti median atau mean, maka errornya akan sangat tinggi. Lebih baik di drop agar tidak membuat model semakin tidak akurat."
   ]
  },
  {
   "cell_type": "code",
   "execution_count": 12,
   "id": "8ac3ce41-75f9-45b8-993f-d9b7fa1433f7",
   "metadata": {},
   "outputs": [],
   "source": [
    "# Melihat feature apa saja yang memiliki missing value lebih dari 50%\n",
    "missing_values = pd.DataFrame(df.isnull().sum()/df.shape[0])"
   ]
  },
  {
   "cell_type": "code",
   "execution_count": 13,
   "id": "e9d06302-6034-4def-aad7-e94baa138583",
   "metadata": {},
   "outputs": [],
   "source": [
    "missing_values = missing_values[missing_values.iloc[:,0] > 0.05]"
   ]
  },
  {
   "cell_type": "code",
   "execution_count": 14,
   "id": "282c03d9-20f2-40e2-89bc-8449858ca026",
   "metadata": {},
   "outputs": [
    {
     "data": {
      "text/html": [
       "<div>\n",
       "<style scoped>\n",
       "    .dataframe tbody tr th:only-of-type {\n",
       "        vertical-align: middle;\n",
       "    }\n",
       "\n",
       "    .dataframe tbody tr th {\n",
       "        vertical-align: top;\n",
       "    }\n",
       "\n",
       "    .dataframe thead th {\n",
       "        text-align: right;\n",
       "    }\n",
       "</style>\n",
       "<table border=\"1\" class=\"dataframe\">\n",
       "  <thead>\n",
       "    <tr style=\"text-align: right;\">\n",
       "      <th></th>\n",
       "      <th>0</th>\n",
       "    </tr>\n",
       "  </thead>\n",
       "  <tbody>\n",
       "    <tr>\n",
       "      <th>open_il_12m</th>\n",
       "      <td>1.000000</td>\n",
       "    </tr>\n",
       "    <tr>\n",
       "      <th>open_il_6m</th>\n",
       "      <td>1.000000</td>\n",
       "    </tr>\n",
       "    <tr>\n",
       "      <th>total_cu_tl</th>\n",
       "      <td>1.000000</td>\n",
       "    </tr>\n",
       "    <tr>\n",
       "      <th>inq_fi</th>\n",
       "      <td>1.000000</td>\n",
       "    </tr>\n",
       "    <tr>\n",
       "      <th>all_util</th>\n",
       "      <td>1.000000</td>\n",
       "    </tr>\n",
       "    <tr>\n",
       "      <th>max_bal_bc</th>\n",
       "      <td>1.000000</td>\n",
       "    </tr>\n",
       "    <tr>\n",
       "      <th>open_rv_24m</th>\n",
       "      <td>1.000000</td>\n",
       "    </tr>\n",
       "    <tr>\n",
       "      <th>open_rv_12m</th>\n",
       "      <td>1.000000</td>\n",
       "    </tr>\n",
       "    <tr>\n",
       "      <th>il_util</th>\n",
       "      <td>1.000000</td>\n",
       "    </tr>\n",
       "    <tr>\n",
       "      <th>total_bal_il</th>\n",
       "      <td>1.000000</td>\n",
       "    </tr>\n",
       "    <tr>\n",
       "      <th>mths_since_rcnt_il</th>\n",
       "      <td>1.000000</td>\n",
       "    </tr>\n",
       "    <tr>\n",
       "      <th>open_il_24m</th>\n",
       "      <td>1.000000</td>\n",
       "    </tr>\n",
       "    <tr>\n",
       "      <th>inq_last_12m</th>\n",
       "      <td>1.000000</td>\n",
       "    </tr>\n",
       "    <tr>\n",
       "      <th>open_acc_6m</th>\n",
       "      <td>1.000000</td>\n",
       "    </tr>\n",
       "    <tr>\n",
       "      <th>verification_status_joint</th>\n",
       "      <td>1.000000</td>\n",
       "    </tr>\n",
       "    <tr>\n",
       "      <th>dti_joint</th>\n",
       "      <td>1.000000</td>\n",
       "    </tr>\n",
       "    <tr>\n",
       "      <th>annual_inc_joint</th>\n",
       "      <td>1.000000</td>\n",
       "    </tr>\n",
       "    <tr>\n",
       "      <th>mths_since_last_record</th>\n",
       "      <td>0.865666</td>\n",
       "    </tr>\n",
       "    <tr>\n",
       "      <th>mths_since_last_major_derog</th>\n",
       "      <td>0.787739</td>\n",
       "    </tr>\n",
       "    <tr>\n",
       "      <th>desc</th>\n",
       "      <td>0.729820</td>\n",
       "    </tr>\n",
       "    <tr>\n",
       "      <th>mths_since_last_delinq</th>\n",
       "      <td>0.536906</td>\n",
       "    </tr>\n",
       "    <tr>\n",
       "      <th>next_pymnt_d</th>\n",
       "      <td>0.487286</td>\n",
       "    </tr>\n",
       "    <tr>\n",
       "      <th>tot_cur_bal</th>\n",
       "      <td>0.150715</td>\n",
       "    </tr>\n",
       "    <tr>\n",
       "      <th>tot_coll_amt</th>\n",
       "      <td>0.150715</td>\n",
       "    </tr>\n",
       "    <tr>\n",
       "      <th>total_rev_hi_lim</th>\n",
       "      <td>0.150715</td>\n",
       "    </tr>\n",
       "    <tr>\n",
       "      <th>emp_title</th>\n",
       "      <td>0.059166</td>\n",
       "    </tr>\n",
       "  </tbody>\n",
       "</table>\n",
       "</div>"
      ],
      "text/plain": [
       "                                    0\n",
       "open_il_12m                  1.000000\n",
       "open_il_6m                   1.000000\n",
       "total_cu_tl                  1.000000\n",
       "inq_fi                       1.000000\n",
       "all_util                     1.000000\n",
       "max_bal_bc                   1.000000\n",
       "open_rv_24m                  1.000000\n",
       "open_rv_12m                  1.000000\n",
       "il_util                      1.000000\n",
       "total_bal_il                 1.000000\n",
       "mths_since_rcnt_il           1.000000\n",
       "open_il_24m                  1.000000\n",
       "inq_last_12m                 1.000000\n",
       "open_acc_6m                  1.000000\n",
       "verification_status_joint    1.000000\n",
       "dti_joint                    1.000000\n",
       "annual_inc_joint             1.000000\n",
       "mths_since_last_record       0.865666\n",
       "mths_since_last_major_derog  0.787739\n",
       "desc                         0.729820\n",
       "mths_since_last_delinq       0.536906\n",
       "next_pymnt_d                 0.487286\n",
       "tot_cur_bal                  0.150715\n",
       "tot_coll_amt                 0.150715\n",
       "total_rev_hi_lim             0.150715\n",
       "emp_title                    0.059166"
      ]
     },
     "execution_count": 14,
     "metadata": {},
     "output_type": "execute_result"
    }
   ],
   "source": [
    "missing_values.sort_values([0], ascending=False)"
   ]
  },
  {
   "cell_type": "code",
   "execution_count": 15,
   "id": "7e908d58-33f9-4772-b45c-28889001472d",
   "metadata": {},
   "outputs": [],
   "source": [
    "# Drop feature tersebut\n",
    "df.dropna(thresh = df.shape[0]*0.5, axis=1, inplace=True)"
   ]
  },
  {
   "cell_type": "code",
   "execution_count": 16,
   "id": "8ef5987e-c39c-439e-8af4-7a2a540fced7",
   "metadata": {},
   "outputs": [
    {
     "data": {
      "text/html": [
       "<div>\n",
       "<style scoped>\n",
       "    .dataframe tbody tr th:only-of-type {\n",
       "        vertical-align: middle;\n",
       "    }\n",
       "\n",
       "    .dataframe tbody tr th {\n",
       "        vertical-align: top;\n",
       "    }\n",
       "\n",
       "    .dataframe thead th {\n",
       "        text-align: right;\n",
       "    }\n",
       "</style>\n",
       "<table border=\"1\" class=\"dataframe\">\n",
       "  <thead>\n",
       "    <tr style=\"text-align: right;\">\n",
       "      <th></th>\n",
       "      <th>0</th>\n",
       "    </tr>\n",
       "  </thead>\n",
       "  <tbody>\n",
       "    <tr>\n",
       "      <th>next_pymnt_d</th>\n",
       "      <td>0.487286</td>\n",
       "    </tr>\n",
       "    <tr>\n",
       "      <th>tot_coll_amt</th>\n",
       "      <td>0.150715</td>\n",
       "    </tr>\n",
       "    <tr>\n",
       "      <th>tot_cur_bal</th>\n",
       "      <td>0.150715</td>\n",
       "    </tr>\n",
       "    <tr>\n",
       "      <th>total_rev_hi_lim</th>\n",
       "      <td>0.150715</td>\n",
       "    </tr>\n",
       "    <tr>\n",
       "      <th>emp_title</th>\n",
       "      <td>0.059166</td>\n",
       "    </tr>\n",
       "  </tbody>\n",
       "</table>\n",
       "</div>"
      ],
      "text/plain": [
       "                         0\n",
       "next_pymnt_d      0.487286\n",
       "tot_coll_amt      0.150715\n",
       "tot_cur_bal       0.150715\n",
       "total_rev_hi_lim  0.150715\n",
       "emp_title         0.059166"
      ]
     },
     "execution_count": 16,
     "metadata": {},
     "output_type": "execute_result"
    }
   ],
   "source": [
    "# Pengecheckan ulang apakah feature tersebut berhasil di drop\n",
    "missing_values = pd.DataFrame(df.isnull().sum()/df.shape[0])\n",
    "missing_values = missing_values[missing_values.iloc[:,0] > 0.05]\n",
    "missing_values.sort_values([0], ascending=False)"
   ]
  },
  {
   "cell_type": "code",
   "execution_count": 17,
   "id": "90709d71-c60a-4ae2-b362-9101882b5cb5",
   "metadata": {},
   "outputs": [
    {
     "data": {
      "text/plain": [
       "(466285, 55)"
      ]
     },
     "execution_count": 17,
     "metadata": {},
     "output_type": "execute_result"
    }
   ],
   "source": [
    "df.shape"
   ]
  },
  {
   "cell_type": "markdown",
   "id": "653d2b8c-d440-42fd-9f67-82172189b8c5",
   "metadata": {},
   "source": [
    "DATA SPLITTING"
   ]
  },
  {
   "cell_type": "code",
   "execution_count": 18,
   "id": "c6d6e1ac-14e5-42af-9041-5646e93793f5",
   "metadata": {},
   "outputs": [],
   "source": [
    "from sklearn.model_selection import train_test_split\n",
    "# Membagi data menjadi 80/20 dengan menyamakan distribusi dari bad loans di test set dengan train set.\n",
    "X = df.drop('good_bad', axis=1)\n",
    "y = df['good_bad']\n",
    "\n",
    "X_train, X_test, y_train, y_test = train_test_split(X, y, test_size=0.2, stratify=y, random_state=42)"
   ]
  },
  {
   "cell_type": "code",
   "execution_count": 19,
   "id": "9e47f07e-c552-4367-860e-24d988b09b49",
   "metadata": {},
   "outputs": [
    {
     "data": {
      "text/plain": [
       "((373028, 54), (93257, 54))"
      ]
     },
     "execution_count": 19,
     "metadata": {},
     "output_type": "execute_result"
    }
   ],
   "source": [
    "X_train.shape, X_test.shape"
   ]
  },
  {
   "cell_type": "code",
   "execution_count": 20,
   "id": "44f74006-d61d-4e80-8e7b-8d18b1238d89",
   "metadata": {},
   "outputs": [
    {
     "data": {
      "text/plain": [
       "good_bad\n",
       "0    0.888081\n",
       "1    0.111919\n",
       "Name: proportion, dtype: float64"
      ]
     },
     "execution_count": 20,
     "metadata": {},
     "output_type": "execute_result"
    }
   ],
   "source": [
    "y_train.value_counts(normalize=True)"
   ]
  },
  {
   "cell_type": "code",
   "execution_count": 21,
   "id": "eedc514d-d725-4e55-99a1-9a5c2bd71145",
   "metadata": {},
   "outputs": [
    {
     "data": {
      "text/plain": [
       "good_bad\n",
       "0    0.888083\n",
       "1    0.111917\n",
       "Name: proportion, dtype: float64"
      ]
     },
     "execution_count": 21,
     "metadata": {},
     "output_type": "execute_result"
    }
   ],
   "source": [
    "# Distribusi y_test sudah sama persis dengan y_train\n",
    "y_test.value_counts(normalize=True)"
   ]
  },
  {
   "cell_type": "markdown",
   "id": "2421447c-d74f-4d92-a5c7-252b91fdf89c",
   "metadata": {},
   "source": [
    "DATA CLEANING"
   ]
  },
  {
   "cell_type": "code",
   "execution_count": 22,
   "id": "e4490d92-7757-4211-b3c7-39138d76d851",
   "metadata": {},
   "outputs": [
    {
     "data": {
      "text/plain": [
       "(373028, 54)"
      ]
     },
     "execution_count": 22,
     "metadata": {},
     "output_type": "execute_result"
    }
   ],
   "source": [
    "# Terdapat 65 kolom, bagaimana untuk mengetahui kolom apa saja yang memiliki data kotor?\n",
    "X_train.shape"
   ]
  },
  {
   "cell_type": "code",
   "execution_count": 23,
   "id": "768855a2-2464-460a-a3c2-40879ed19aff",
   "metadata": {},
   "outputs": [
    {
     "name": "stdout",
     "output_type": "stream",
     "text": [
      "term\n",
      "[' 60 months' ' 36 months']\n",
      "\n",
      "grade\n",
      "['C' 'D' 'A' 'B' 'E' 'F' 'G']\n",
      "\n",
      "sub_grade\n",
      "['C1' 'D1' 'A1' 'B5' 'B4' 'B2' 'B3' 'C3' 'C5' 'A4' 'E3' 'A5' 'D4' 'A3'\n",
      " 'D2' 'E5' 'C4' 'D5' 'E1' 'E2' 'F3' 'B1' 'C2' 'D3' 'F1' 'F4' 'A2' 'G3'\n",
      " 'E4' 'G4' 'G1' 'F5' 'F2' 'G2' 'G5']\n",
      "\n",
      "emp_title\n",
      "['Research Associate (Assistant Professor)' 'Volunteer Coordinator'\n",
      " 'Plant Manger ' ... 'AMR Group' 'Dallas Can Academy' 'Tax Return Center']\n",
      "\n",
      "emp_length\n",
      "['9 years' '2 years' '10+ years' '1 year' '< 1 year' '8 years' nan\n",
      " '6 years' '3 years' '4 years' '5 years' '7 years']\n",
      "\n",
      "home_ownership\n",
      "['MORTGAGE' 'RENT' 'OWN' 'OTHER' 'NONE' 'ANY']\n",
      "\n",
      "verification_status\n",
      "['Verified' 'Not Verified' 'Source Verified']\n",
      "\n",
      "issue_d\n",
      "['Jul-14' 'Oct-13' 'Mar-14' 'Oct-14' 'Aug-11' 'Aug-12' 'Apr-13' 'Nov-07'\n",
      " 'Jun-12' 'Jul-08' 'Jun-14' 'Sep-13' 'Jul-13' 'May-13' 'Feb-12' 'Jun-10'\n",
      " 'Jun-13' 'Apr-14' 'Jul-12' 'Aug-14' 'Nov-13' 'Jan-14' 'Dec-13' 'Dec-14'\n",
      " 'Feb-14' 'Dec-12' 'May-11' 'Nov-12' 'Sep-14' 'Feb-13' 'Nov-14' 'Sep-11'\n",
      " 'Jan-13' 'May-14' 'Jun-09' 'Mar-12' 'May-10' 'Dec-10' 'Aug-13' 'Mar-13'\n",
      " 'Apr-11' 'Nov-10' 'Jan-12' 'Oct-12' 'Jan-11' 'Jul-11' 'Jul-09' 'Sep-12'\n",
      " 'Aug-09' 'Jan-08' 'Nov-11' 'Sep-10' 'Apr-12' 'May-09' 'Dec-11' 'Mar-11'\n",
      " 'Feb-11' 'Oct-11' 'Feb-10' 'May-12' 'Jun-11' 'Aug-10' 'Dec-09' 'Apr-09'\n",
      " 'Oct-09' 'Mar-10' 'Jan-10' 'Oct-07' 'Sep-09' 'Nov-09' 'Dec-08' 'Oct-10'\n",
      " 'Jul-10' 'Mar-08' 'Nov-08' 'Apr-08' 'Apr-10' 'Dec-07' 'Jun-08' 'Mar-09'\n",
      " 'Oct-08' 'Aug-08' 'Feb-09' 'Jan-09' 'May-08' 'Feb-08' 'Sep-07' 'Jul-07'\n",
      " 'Jun-07' 'Sep-08' 'Aug-07']\n",
      "\n",
      "loan_status\n",
      "['Current' 'Charged Off' 'Fully Paid' 'Late (31-120 days)'\n",
      " 'Does not meet the credit policy. Status:Fully Paid' 'In Grace Period'\n",
      " 'Late (16-30 days)' 'Does not meet the credit policy. Status:Charged Off'\n",
      " 'Default']\n",
      "\n",
      "pymnt_plan\n",
      "['n' 'y']\n",
      "\n",
      "url\n",
      "['https://www.lendingclub.com/browse/loanDetail.action?loan_id=22444562'\n",
      " 'https://www.lendingclub.com/browse/loanDetail.action?loan_id=7618610'\n",
      " 'https://www.lendingclub.com/browse/loanDetail.action?loan_id=22321762'\n",
      " ...\n",
      " 'https://www.lendingclub.com/browse/loanDetail.action?loan_id=1003720'\n",
      " 'https://www.lendingclub.com/browse/loanDetail.action?loan_id=31226405'\n",
      " 'https://www.lendingclub.com/browse/loanDetail.action?loan_id=20388757']\n",
      "\n",
      "purpose\n",
      "['debt_consolidation' 'credit_card' 'other' 'wedding' 'medical'\n",
      " 'home_improvement' 'vacation' 'moving' 'car' 'house' 'major_purchase'\n",
      " 'renewable_energy' 'educational' 'small_business']\n",
      "\n",
      "title\n",
      "['Debt consolidation' 'Debt Consolidation' 'Credit card refinancing' ...\n",
      " 'BMW ' 'cut high rate accounts' 'estate taxes']\n",
      "\n",
      "zip_code\n",
      "['463xx' '787xx' '857xx' '741xx' '853xx' '300xx' '926xx' '087xx' '021xx'\n",
      " '604xx' '296xx' '601xx' '906xx' '945xx' '231xx' '136xx' '066xx' '801xx'\n",
      " '785xx' '856xx' '302xx' '101xx' '751xx' '306xx' '083xx' '257xx' '197xx'\n",
      " '107xx' '917xx' '951xx' '921xx' '354xx' '925xx' '606xx' '286xx' '370xx'\n",
      " '996xx' '989xx' '958xx' '941xx' '726xx' '859xx' '433xx' '717xx' '907xx'\n",
      " '210xx' '199xx' '891xx' '712xx' '902xx' '765xx' '294xx' '337xx' '017xx'\n",
      " '190xx' '144xx' '322xx' '768xx' '208xx' '077xx' '774xx' '563xx' '100xx'\n",
      " '339xx' '903xx' '441xx' '127xx' '123xx' '010xx' '335xx' '432xx' '488xx'\n",
      " '351xx' '605xx' '915xx' '752xx' '770xx' '070xx' '430xx' '018xx' '490xx'\n",
      " '146xx' '615xx' '443xx' '368xx' '735xx' '705xx' '564xx' '112xx' '232xx'\n",
      " '905xx' '310xx' '320xx' '336xx' '104xx' '773xx' '800xx' '064xx' '483xx'\n",
      " '974xx' '060xx' '201xx' '930xx' '822xx' '740xx' '395xx' '191xx' '256xx'\n",
      " '793xx' '029xx' '109xx' '028xx' '728xx' '747xx' '603xx' '220xx' '875xx'\n",
      " '600xx' '748xx' '928xx' '983xx' '737xx' '750xx' '852xx' '439xx' '840xx'\n",
      " '916xx' '981xx' '946xx' '328xx' '207xx' '307xx' '331xx' '730xx' '782xx'\n",
      " '920xx' '761xx' '766xx' '786xx' '156xx' '111xx' '026xx' '465xx' '275xx'\n",
      " '075xx' '270xx' '431xx' '953xx' '235xx' '103xx' '346xx' '344xx' '794xx'\n",
      " '957xx' '544xx' '218xx' '121xx' '948xx' '554xx' '650xx' '276xx' '805xx'\n",
      " '537xx' '234xx' '284xx' '166xx' '486xx' '065xx' '178xx' '449xx' '481xx'\n",
      " '080xx' '301xx' '829xx' '452xx' '440xx' '114xx' '723xx' '222xx' '922xx'\n",
      " '086xx' '799xx' '347xx' '303xx' '325xx' '473xx' '919xx' '811xx' '760xx'\n",
      " '551xx' '212xx' '233xx' '547xx' '530xx' '274xx' '365xx' '152xx' '655xx'\n",
      " '333xx' '985xx' '366xx' '089xx' '675xx' '330xx' '076xx' '297xx' '923xx'\n",
      " '115xx' '206xx' '871xx' '176xx' '664xx' '245xx' '610xx' '444xx' '480xx'\n",
      " '678xx' '708xx' '802xx' '641xx' '338xx' '662xx' '074xx' '110xx' '779xx'\n",
      " '228xx' '900xx' '128xx' '461xx' '841xx' '217xx' '648xx' '117xx' '193xx'\n",
      " '784xx' '209xx' '316xx' '224xx' '640xx' '806xx' '073xx' '194xx' '133xx'\n",
      " '775xx' '992xx' '250xx' '200xx' '935xx' '442xx' '940xx' '532xx' '594xx'\n",
      " '630xx' '323xx' '932xx' '462xx' '314xx' '756xx' '067xx' '221xx' '082xx'\n",
      " '746xx' '181xx' '015xx' '272xx' '494xx' '456xx' '393xx' '238xx' '967xx'\n",
      " '970xx' '283xx' '280xx' '132xx' '704xx' '846xx' '460xx' '870xx' '700xx'\n",
      " '113xx' '358xx' '143xx' '458xx' '976xx' '950xx' '277xx' '447xx' '342xx'\n",
      " '279xx' '933xx' '670xx' '757xx' '471xx' '334xx' '612xx' '352xx' '023xx'\n",
      " '450xx' '731xx' '487xx' '613xx' '913xx' '908xx' '175xx' '939xx' '410xx'\n",
      " '808xx' '372xx' '304xx' '122xx' '446xx' '184xx' '024xx' '264xx' '308xx'\n",
      " '321xx' '078xx' '956xx' '394xx' '130xx' '053xx' '918xx' '493xx' '672xx'\n",
      " '402xx' '271xx' '727xx' '927xx' '291xx' '105xx' '142xx' '550xx' '984xx'\n",
      " '995xx' '617xx' '660xx' '371xx' '895xx' '030xx' '744xx' '292xx' '141xx'\n",
      " '609xx' '990xx' '788xx' '072xx' '781xx' '068xx' '482xx' '071xx' '797xx'\n",
      " '451xx' '160xx' '780xx' '349xx' '400xx' '088xx' '815xx' '972xx' '531xx'\n",
      " '850xx' '324xx' '703xx' '936xx' '341xx' '216xx' '051xx' '988xx' '577xx'\n",
      " '851xx' '453xx' '484xx' '796xx' '931xx' '150xx' '644xx' '973xx' '305xx'\n",
      " '285xx' '318xx' '980xx' '405xx' '791xx' '161xx' '373xx' '626xx' '189xx'\n",
      " '968xx' '542xx' '237xx' '185xx' '713xx' '437xx' '911xx' '977xx' '783xx'\n",
      " '710xx' '960xx' '959xx' '553xx' '998xx' '436xx' '949xx' '890xx' '826xx'\n",
      " '971xx' '706xx' '669xx' '179xx' '329xx' '803xx' '085xx' '134xx' '403xx'\n",
      " '943xx' '020xx' '955xx' '315xx' '226xx' '054xx' '656xx' '894xx' '622xx'\n",
      " '647xx' '290xx' '679xx' '975xx' '496xx' '636xx' '326xx' '711xx' '652xx'\n",
      " '151xx' '261xx' '157xx' '019xx' '590xx' '180xx' '548xx' '139xx' '754xx'\n",
      " '952xx' '187xx' '562xx' '619xx' '566xx' '627xx' '596xx' '631xx' '534xx'\n",
      " '244xx' '278xx' '561xx' '982xx' '651xx' '762xx' '170xx' '986xx' '934xx'\n",
      " '759xx' '211xx' '816xx' '090xx' '541xx' '474xx' '720xx' '125xx' '498xx'\n",
      " '163xx' '129xx' '037xx' '722xx' '468xx' '295xx' '904xx' '492xx' '924xx'\n",
      " '954xx' '260xx' '479xx' '388xx' '947xx' '120xx' '633xx' '764xx' '327xx'\n",
      " '380xx' '897xx' '174xx' '570xx' '108xx' '032xx' '069xx' '138xx' '707xx'\n",
      " '014xx' '381xx' '022xx' '385xx' '489xx' '383xx' '131xx' '560xx' '384xx'\n",
      " '254xx' '657xx' '281xx' '376xx' '671xx' '736xx' '186xx' '242xx' '828xx'\n",
      " '364xx' '061xx' '795xx' '810xx' '625xx' '571xx' '147xx' '195xx' '282xx'\n",
      " '565xx' '435xx' '159xx' '912xx' '025xx' '362xx' '701xx' '236xx' '298xx'\n",
      " '027xx' '454xx' '937xx' '777xx' '535xx' '317xx' '476xx' '658xx' '778xx'\n",
      " '574xx' '629xx' '944xx' '812xx' '843xx' '165xx' '814xx' '230xx' '198xx'\n",
      " '031xx' '809xx' '355xx' '265xx' '126xx' '616xx' '914xx' '081xx' '350xx'\n",
      " '665xx' '140xx' '356xx' '379xx' '273xx' '386xx' '241xx' '219xx' '145xx'\n",
      " '214xx' '312xx' '293xx' '813xx' '467xx' '676xx' '299xx' '880xx' '653xx'\n",
      " '549xx' '168xx' '057xx' '251xx' '472xx' '475xx' '978xx' '164xx' '223xx'\n",
      " '495xx' '674xx' '667xx' '620xx' '361xx' '804xx' '546xx' '559xx' '597xx'\n",
      " '225xx' '763xx' '661xx' '477xx' '847xx' '599xx' '628xx' '719xx' '062xx'\n",
      " '776xx' '755xx' '666xx' '313xx' '390xx' '011xx' '309xx' '118xx' '263xx'\n",
      " '427xx' '243xx' '215xx' '961xx' '240xx' '084xx' '545xx' '884xx' '227xx'\n",
      " '769xx' '404xx' '993xx' '253xx' '058xx' '406xx' '401xx' '491xx' '149xx'\n",
      " '183xx' '611xx' '359xx' '820xx' '543xx' '360xx' '119xx' '182xx' '863xx'\n",
      " '258xx' '239xx' '497xx' '420xx' '357xx' '874xx' '991xx' '255xx' '378xx'\n",
      " '153xx' '478xx' '445xx' '434xx' '287xx' '734xx' '172xx' '171xx' '319xx'\n",
      " '882xx' '421xx' '377xx' '624xx' '673xx' '424xx' '879xx' '898xx' '792xx'\n",
      " '767xx' '827xx' '485xx' '749xx' '392xx' '063xx' '422xx' '798xx' '646xx'\n",
      " '038xx' '873xx' '448xx' '595xx' '469xx' '079xx' '637xx' '016xx' '177xx'\n",
      " '173xx' '155xx' '807xx' '864xx' '116xx' '034xx' '374xx' '855xx' '729xx'\n",
      " '654xx' '288xx' '268xx' '575xx' '743xx' '910xx' '012xx' '789xx' '639xx'\n",
      " '464xx' '877xx' '893xx' '416xx' '013xx' '721xx' '056xx' '608xx' '387xx'\n",
      " '106xx' '860xx' '790xx' '466xx' '382xx' '979xx' '677xx' '363xx' '634xx'\n",
      " '602xx' '888xx' '539xx' '137xx' '557xx' '455xx' '758xx' '997xx' '573xx'\n",
      " '714xx' '556xx' '409xx' '438xx' '499xx' '162xx' '716xx' '102xx' '148xx'\n",
      " '645xx' '425xx' '962xx' '572xx' '668xx' '470xx' '267xx' '398xx' '196xx'\n",
      " '411xx' '229xx' '618xx' '607xx' '052xx' '623xx' '035xx' '415xx' '412xx'\n",
      " '091xx' '154xx' '881xx' '246xx' '999xx' '614xx' '938xx' '558xx' '725xx'\n",
      " '718xx' '591xx' '638xx' '724xx' '844xx' '124xx' '332xx' '407xx' '266xx'\n",
      " '367xx' '824xx' '289xx' '036xx' '538xx' '830xx' '567xx' '423xx' '158xx'\n",
      " '753xx' '249xx' '262xx' '739xx' '135xx' '576xx' '540xx' '457xx' '391xx'\n",
      " '396xx' '883xx' '598xx' '169xx' '417xx' '397xx' '426xx' '188xx' '745xx'\n",
      " '738xx' '963xx' '680xx' '413xx' '865xx' '593xx' '994xx' '831xx' '825xx'\n",
      " '523xx' '247xx' '248xx' '418xx' '592xx' '823xx' '772xx' '007xx' '167xx'\n",
      " '259xx' '033xx' '050xx' '635xx' '845xx' '043xx' '252xx' '836xx' '408xx'\n",
      " '094xx' '832xx' '522xx' '878xx' '389xx' '527xx' '369xx' '311xx' '096xx'\n",
      " '098xx' '969xx' '008xx' '516xx' '059xx' '514xx' '837xx' '375xx' '414xx'\n",
      " '524xx' '681xx' '500xx' '429xx' '092xx' '833xx' '854xx' '838xx' '691xx'\n",
      " '204xx' '643xx' '834xx' '093xx' '528xx' '044xx' '041xx' '821xx' '942xx'\n",
      " '685xx' '663xx' '513xx' '682xx' '049xx' '203xx' '353xx' '965xx' '503xx'\n",
      " '889xx' '040xx' '510xx' '909xx' '569xx' '502xx' '340xx']\n",
      "\n",
      "addr_state\n",
      "['IN' 'TX' 'AZ' 'OK' 'GA' 'CA' 'NJ' 'MA' 'IL' 'SC' 'VA' 'NY' 'CT' 'CO'\n",
      " 'WV' 'DE' 'AL' 'NC' 'TN' 'AK' 'WA' 'AR' 'OH' 'MD' 'NV' 'LA' 'FL' 'PA'\n",
      " 'MN' 'MI' 'OR' 'WY' 'MS' 'RI' 'NM' 'UT' 'WI' 'MO' 'KS' 'DC' 'MT' 'HI'\n",
      " 'KY' 'VT' 'NH' 'SD' 'NE' 'IA' 'ME' 'ID']\n",
      "\n",
      "earliest_cr_line\n",
      "['Apr-92' 'Oct-94' 'Mar-94' 'Feb-00' 'Mar-01' 'Oct-05' 'May-94' 'Aug-98'\n",
      " 'Sep-03' 'Sep-02' 'Dec-98' 'Oct-99' 'Jun-96' 'Nov-00' 'Jul-06' 'Oct-00'\n",
      " 'Mar-06' 'Apr-95' 'Oct-86' 'Jan-07' 'Sep-97' 'May-97' 'Apr-07' 'Mar-08'\n",
      " 'May-05' 'Nov-97' 'Oct-96' 'May-07' 'Feb-02' 'Jan-99' 'Sep-00' 'Jun-00'\n",
      " 'Sep-98' 'Sep-11' 'Jul-86' 'Sep-07' 'Jun-94' 'May-91' 'Mar-02' 'Mar-10'\n",
      " 'Aug-02' 'Apr-86' 'Apr-90' 'Nov-02' 'Dec-89' 'Aug-66' 'Nov-96' 'Jun-01'\n",
      " 'Aug-01' 'Sep-95' 'Mar-84' 'Aug-04' 'Oct-85' 'Dec-01' 'Apr-98' 'Jun-93'\n",
      " 'May-02' 'Feb-98' 'Jan-87' 'Sep-81' 'Jan-03' 'Sep-99' 'Jan-97' 'Feb-08'\n",
      " 'Nov-99' 'Feb-01' 'Apr-96' 'May-87' 'Mar-04' 'Sep-05' 'Sep-86' 'Oct-93'\n",
      " 'Oct-06' 'Apr-00' 'Dec-02' 'Jan-06' 'Dec-96' 'Jun-03' 'Jan-04' 'Jun-99'\n",
      " 'Aug-97' 'Aug-00' 'Jul-93' 'May-98' 'Jan-93' 'Nov-01' 'Oct-78' 'Aug-76'\n",
      " 'Jul-91' 'Jan-84' 'Oct-98' 'Jul-84' 'Mar-99' 'Aug-77' 'Dec-75' 'Feb-90'\n",
      " 'Jun-04' 'May-01' 'Nov-98' 'Feb-86' 'Jan-92' 'Dec-95' 'May-78' 'Mar-96'\n",
      " 'Oct-03' 'Sep-94' 'Feb-06' 'Feb-94' 'Mar-63' 'Nov-88' 'Aug-94' 'Oct-02'\n",
      " 'Nov-03' 'Jan-94' 'Jan-91' 'May-96' 'Oct-83' 'Jul-99' 'Nov-84' 'Jun-02'\n",
      " 'Aug-08' 'Jul-00' 'Aug-86' 'Apr-91' 'Feb-91' 'Dec-93' 'May-06' 'May-71'\n",
      " 'Jan-98' 'Jan-95' 'Mar-98' 'Apr-05' 'Nov-70' 'Apr-03' 'Jun-90' 'Jun-07'\n",
      " 'Feb-03' 'Dec-94' 'Aug-92' 'Sep-93' 'Jul-08' 'Dec-00' 'Dec-06' 'Aug-87'\n",
      " 'Nov-93' 'Jan-96' 'Mar-93' 'Feb-05' 'May-04' 'Oct-97' 'Aug-93' 'May-89'\n",
      " 'Apr-10' 'Mar-83' 'Jul-03' 'Nov-79' 'Oct-91' 'Jan-85' 'Apr-89' 'Oct-01'\n",
      " 'May-00' 'Nov-95' 'Mar-91' 'Jul-07' 'Apr-97' 'Apr-04' 'Oct-04' 'Sep-84'\n",
      " 'Feb-88' 'Sep-04' 'Nov-86' 'Jun-95' 'Jan-88' 'Jul-01' 'Nov-81' 'Dec-97'\n",
      " 'Sep-01' 'Oct-90' 'Apr-94' 'Aug-90' 'Sep-09' 'Jun-10' 'Jan-83' 'Nov-10'\n",
      " 'May-09' 'Apr-77' 'May-92' 'Oct-62' 'May-03' 'Mar-92' 'Sep-06' 'Mar-89'\n",
      " 'Nov-78' 'Jun-98' 'Jun-97' 'Feb-07' 'Jul-02' 'Jan-08' 'Mar-90' 'Apr-01'\n",
      " 'Oct-87' 'Nov-94' 'Aug-07' 'Aug-91' 'Aug-89' 'Feb-09' 'Jul-09' 'Jun-08'\n",
      " 'Jul-05' 'Jan-09' 'Mar-00' 'Jan-01' 'May-99' 'Feb-85' 'Aug-99' 'Nov-09'\n",
      " 'Apr-87' 'Dec-05' 'Mar-03' 'Jan-90' 'Apr-08' 'Dec-91' 'Jul-97' 'Oct-09'\n",
      " 'Dec-84' 'Jul-94' 'Feb-84' 'May-95' 'Jul-89' 'Jun-92' 'Dec-99' 'Feb-93'\n",
      " 'Dec-90' 'Apr-84' 'Sep-08' 'Jan-05' 'Sep-96' 'Feb-99' 'Dec-88' 'May-93'\n",
      " 'Oct-10' 'Jul-96' 'Jul-04' 'Nov-90' 'Feb-82' 'Jan-82' 'Dec-78' 'Feb-95'\n",
      " 'Sep-72' 'Nov-87' 'Oct-88' 'Apr-93' 'Sep-90' 'Feb-87' 'Aug-85' 'Sep-89'\n",
      " 'Jul-88' 'Jun-06' 'Mar-97' 'Mar-76' 'Nov-07' 'Nov-06' 'Dec-86' 'Feb-04'\n",
      " 'Sep-92' 'Mar-07' 'Aug-95' 'Aug-06' 'Jul-92' 'May-84' 'Jan-02' 'Jan-00'\n",
      " 'Dec-03' 'Nov-91' 'Aug-03' 'Jul-98' 'Aug-05' 'Oct-75' 'Jul-90' 'Apr-99'\n",
      " 'Jun-05' 'Oct-07' 'Nov-66' 'Oct-92' 'Mar-09' 'Mar-77' 'Sep-83' 'Apr-02'\n",
      " 'Oct-95' 'Apr-06' 'Feb-96' 'Jun-88' 'Mar-87' 'Aug-96' 'Nov-04' 'Nov-85'\n",
      " 'Oct-76' 'Sep-87' 'Oct-81' 'May-77' 'Nov-05' 'May-10' 'Nov-92' 'May-86'\n",
      " 'Feb-97' 'Nov-82' 'Mar-11' 'Aug-81' 'May-82' 'Dec-04' 'Jul-87' 'Feb-89'\n",
      " 'Jul-83' 'Apr-75' 'Nov-08' 'Jun-89' 'May-79' 'Jul-95' 'Jul-10' 'Mar-86'\n",
      " 'Oct-84' 'Mar-80' 'Jan-10' 'Mar-73' 'Dec-07' 'Feb-79' 'Aug-88' 'Jun-91'\n",
      " 'Jun-76' 'Mar-95' 'Feb-92' 'Jul-71' 'May-83' 'May-08' 'Dec-09' 'Jan-86'\n",
      " 'Jan-89' 'Dec-82' 'Jun-85' 'Mar-88' 'May-85' 'Sep-91' 'Aug-83' 'Aug-72'\n",
      " 'Mar-85' 'May-90' 'Nov-89' 'Jun-82' 'Apr-78' 'Oct-79' 'Apr-85' 'Apr-88'\n",
      " 'Jun-72' 'Apr-83' 'Feb-11' 'Jul-73' 'Sep-85' 'Oct-80' 'Dec-87' 'Sep-74'\n",
      " 'Aug-78' 'Feb-83' 'Mar-75' 'Nov-64' 'Jul-85' 'May-88' 'Aug-09' 'Jun-86'\n",
      " 'Sep-80' 'Jan-79' 'Oct-08' 'Apr-82' 'Feb-10' 'Dec-92' 'Oct-82' 'Dec-83'\n",
      " 'Apr-79' 'Jun-87' 'Sep-77' 'Jun-09' 'Nov-75' 'Oct-69' 'Sep-78' 'Mar-69'\n",
      " 'Dec-85' 'Dec-66' 'Nov-80' 'Aug-80' 'Jan-71' 'Aug-64' 'Jul-78' 'Jan-78'\n",
      " 'Jan-77' 'Jul-77' 'Jan-76' 'Nov-71' 'Nov-83' 'Jan-67' 'Nov-77' 'Jan-11'\n",
      " 'Aug-84' 'Jun-69' 'Sep-88' 'Jun-79' 'Jul-72' 'Feb-77' 'Mar-05' 'Jun-81'\n",
      " 'Jan-72' 'Jan-75' 'Aug-82' 'Jul-81' 'Dec-80' 'Apr-09' 'Sep-76' 'Dec-74'\n",
      " 'Jun-84' 'Sep-69' 'Jun-67' 'Jan-69' 'Nov-72' 'Dec-72' 'Dec-08' 'Mar-81'\n",
      " 'Dec-81' 'Jun-83' 'Jan-70' 'Oct-73' 'Jul-79' 'Jun-78' 'May-81' 'Oct-65'\n",
      " 'Sep-10' 'Aug-74' 'Dec-76' 'Oct-72' 'Nov-74' 'Dec-71' 'Sep-79' 'Jun-11'\n",
      " 'Jul-68' 'Apr-76' 'May-76' 'Mar-82' 'Sep-82' 'Feb-78' 'Jun-73' 'Oct-11'\n",
      " 'Nov-69' 'Jan-80' 'Mar-78' 'May-73' 'Dec-73' 'Sep-75' 'Oct-89' 'Mar-68'\n",
      " 'Jul-69' 'Sep-66' 'May-69' 'Jul-76' 'Dec-10' 'Aug-10' 'Aug-75' 'Oct-77'\n",
      " 'Sep-68' 'Jun-77' 'Oct-67' 'Sep-73' 'Jul-65' 'Aug-70' 'Apr-81' 'Jul-82'\n",
      " 'Feb-81' 'Jul-80' 'Aug-11' 'Feb-80' 'Apr-11' 'Aug-68' 'Nov-68' 'Mar-74'\n",
      " 'May-80' 'Feb-73' 'Apr-70' 'Apr-80' 'Jul-67' 'Jun-68' 'Jun-75' 'Jan-81'\n",
      " 'Oct-70' 'Oct-74' 'Feb-75' 'Oct-71' 'Jul-74' 'Mar-71' 'Aug-71' 'Jan-73'\n",
      " 'Dec-77' 'Jun-74' 'Mar-72' 'Feb-69' 'Apr-72' 'Nov-76' 'May-11' 'Dec-79'\n",
      " 'Jul-11' 'Feb-72' 'Sep-65' 'Dec-70' 'Aug-79' 'Sep-70' 'Dec-69' 'Sep-71'\n",
      " 'May-70' 'Apr-71' 'Apr-69' 'Apr-73' 'May-74' 'Aug-67' 'Mar-70' 'Jul-75'\n",
      " 'Jun-71' 'Feb-65' 'Apr-74' 'Feb-76' 'Mar-79' 'Aug-73' 'Oct-68' 'Jul-64'\n",
      " 'Apr-68' 'Jun-80' 'Feb-71' 'May-67' 'May-75' 'Jan-60' 'Feb-74' nan\n",
      " 'Dec-58' 'Nov-73' 'Apr-65' 'Apr-67' 'Jul-66' 'Jun-65' 'Sep-64' 'Nov-65'\n",
      " 'Jul-59' 'Aug-63' 'Mar-66' 'Jun-66' 'Mar-67' 'Dec-63' 'Aug-69' 'Dec-64'\n",
      " 'Apr-66' 'Aug-65' 'Sep-67' 'May-72' 'Oct-64' 'Jun-58' 'Jan-74' 'Nov-61'\n",
      " 'Feb-67' 'Dec-56' 'Jan-51' 'Dec-65' 'May-65' 'Feb-70' 'Nov-62' 'Jul-70'\n",
      " 'Jul-55' 'May-58' 'Jun-70' 'Nov-60' 'Apr-64' 'Jan-62' 'Dec-68' 'Sep-62'\n",
      " 'Feb-68' 'Jan-61' 'Feb-66' 'Feb-57' 'Jan-66' 'Sep-59' 'Dec-67' 'Nov-63'\n",
      " 'Jan-64' 'May-68' 'Nov-67' 'Dec-50' 'Feb-60' 'Oct-63' 'Nov-58' 'Oct-60'\n",
      " 'Nov-59' 'Jan-56' 'May-63' 'Jul-63' 'Jan-63' 'Oct-50' 'Mar-61' 'Jun-60'\n",
      " 'Oct-59' 'Oct-66' 'Jun-64' 'Jun-63' 'Jul-61' 'Oct-58' 'Nov-54' 'Jan-68'\n",
      " 'Jan-65' 'Sep-63' 'Oct-61' 'Aug-58' 'Jan-58' 'Mar-65' 'Mar-64' 'Dec-60'\n",
      " 'Jan-55' 'May-64' 'Jun-49' 'Feb-64' 'Jul-62' 'Nov-55' 'May-66' 'Apr-63'\n",
      " 'Nov-11' 'Jul-60' 'Apr-62' 'Nov-53' 'Jun-59' 'Jan-54' 'Aug-60' 'May-59'\n",
      " 'May-62' 'Oct-54' 'Dec-62' 'Nov-56' 'Aug-46' 'Feb-63' 'Jan-59' 'Mar-62'\n",
      " 'Jun-62' 'Jun-61' 'Jan-46' 'May-60' 'Jan-57' 'Dec-61' 'Mar-60' 'Sep-60'\n",
      " 'Mar-59' 'Jul-58' 'May-53' 'Sep-56' 'Aug-61' 'Jan-44' 'Dec-51' 'Aug-62'\n",
      " 'May-50' 'Jan-48' 'Apr-55' 'Apr-61' 'Feb-61']\n",
      "\n",
      "initial_list_status\n",
      "['w' 'f']\n",
      "\n",
      "last_pymnt_d\n",
      "['Jan-16' 'Dec-13' 'Mar-15' 'Aug-15' 'Oct-15' 'Feb-13' 'Nov-14' 'Nov-10'\n",
      " 'Jan-14' 'Sep-11' 'Apr-15' 'Aug-14' 'Jul-13' 'Nov-13' 'Jun-15' 'May-15'\n",
      " 'Dec-15' 'Jul-15' 'Sep-12' 'Sep-14' 'Aug-11' 'Aug-13' 'Mar-14' 'Nov-15'\n",
      " 'Jun-13' 'Oct-14' 'Aug-10' 'Jul-14' 'Dec-14' 'Jan-15' 'Sep-13' 'May-13'\n",
      " 'Apr-14' 'Aug-12' 'Feb-14' 'Oct-13' 'May-14' 'Sep-15' 'Feb-15' 'Mar-11'\n",
      " 'Jun-14' 'Nov-08' 'Jul-12' 'Feb-12' 'Jan-13' 'Oct-10' 'Mar-13' 'Feb-09'\n",
      " 'Oct-12' 'Dec-12' 'Nov-12' nan 'Oct-11' 'Sep-10' 'May-12' 'Dec-11'\n",
      " 'Jul-11' 'Dec-10' 'Feb-10' 'May-11' 'Apr-13' 'Feb-11' 'Mar-12' 'Jun-12'\n",
      " 'Jun-11' 'Jan-11' 'Apr-12' 'Aug-09' 'Jan-12' 'Sep-09' 'Nov-11' 'Sep-08'\n",
      " 'Apr-11' 'Jul-10' 'Oct-09' 'Apr-10' 'Jun-10' 'Jun-09' 'Dec-09' 'May-10'\n",
      " 'Jul-09' 'Jul-08' 'Nov-09' 'Jan-10' 'Oct-08' 'Mar-10' 'May-09' 'Dec-08'\n",
      " 'Aug-08' 'Jan-09' 'Apr-09' 'Mar-09' 'May-08' 'Apr-08' 'Jun-08' 'Mar-08'\n",
      " 'Feb-08' 'Jan-08' 'Dec-07']\n",
      "\n",
      "next_pymnt_d\n",
      "['Jan-16' nan 'Feb-16' 'Sep-11' 'Sep-12' 'Nov-09' 'Mar-09' 'Jun-12'\n",
      " 'Dec-12' 'Feb-11' 'Jul-12' 'Apr-11' 'Oct-09' 'Dec-13' 'Feb-12' 'Jan-13'\n",
      " 'Feb-10' 'Nov-15' 'Feb-13' 'Apr-13' 'Oct-13' 'Feb-09' 'Dec-10' 'May-10'\n",
      " 'Aug-08' 'Mar-12' 'Jul-10' 'Jan-11' 'Jun-11' 'Jun-09' 'Mar-10' 'Dec-09'\n",
      " 'Aug-13' 'Mar-11' 'Aug-09' 'Jan-09' 'Aug-12' 'May-11' 'Dec-11' 'Oct-10'\n",
      " 'Nov-11' 'Jul-11' 'Oct-11' 'Sep-09' 'Aug-11' 'Oct-12' 'Jul-14' 'Sep-14'\n",
      " 'Jan-12' 'Mar-16' 'May-12' 'Apr-12' 'May-13' 'May-15' 'Nov-10' 'Mar-13'\n",
      " 'Jul-09' 'Dec-15' 'Jun-13' 'Jun-08' 'Nov-13' 'Apr-10' 'Aug-10' 'Sep-15'\n",
      " 'Apr-09' 'May-14' 'Sep-10' 'Oct-15' 'Aug-15' 'Apr-15' 'Mar-14' 'Dec-08'\n",
      " 'Jul-13' 'Nov-08' 'Jan-14' 'Nov-12' 'Jan-10' 'Jan-15' 'Jun-10' 'Aug-14'\n",
      " 'May-09' 'Oct-08' 'Dec-14' 'Sep-13' 'Jul-08' 'Oct-14' 'Sep-08' 'Jan-08'\n",
      " 'May-08' 'Feb-15' 'Jul-15' 'Feb-14' 'Nov-14' 'Dec-07' 'Feb-08' 'Apr-08'\n",
      " 'Jun-15' 'Jun-14' 'Mar-08' 'Apr-14']\n",
      "\n",
      "last_credit_pull_d\n",
      "['Jan-16' 'May-14' 'Mar-15' 'Apr-15' 'Aug-11' 'Dec-13' 'Jul-13' 'Mar-14'\n",
      " 'Aug-14' 'Jul-15' 'Dec-15' 'Jun-15' 'Aug-15' 'Sep-12' 'Sep-14' 'Dec-11'\n",
      " 'Aug-13' 'Apr-14' 'Nov-15' 'Oct-15' 'Feb-15' 'May-15' 'Jan-15' 'Jun-14'\n",
      " 'Sep-15' 'Aug-12' 'Feb-14' 'Feb-13' 'Jul-14' 'Mar-11' 'May-13' 'Nov-09'\n",
      " 'Dec-14' 'Jun-12' 'Feb-12' 'Sep-10' 'Oct-13' 'Nov-14' 'Feb-10' 'Jan-14'\n",
      " 'Nov-13' 'Dec-12' 'Oct-14' 'Apr-12' 'Oct-10' 'Jun-13' 'Sep-13' 'May-12'\n",
      " 'Apr-13' 'Oct-11' 'Jul-12' 'Jun-11' 'May-11' 'Nov-12' 'Sep-11' 'Feb-11'\n",
      " 'Oct-12' 'Mar-12' 'Mar-10' 'Nov-11' 'Apr-11' 'Nov-10' 'Sep-09' 'Jul-10'\n",
      " 'Jan-12' 'Jan-13' 'Mar-13' 'Jul-11' 'Jun-10' 'Jan-09' 'May-10' nan\n",
      " 'Apr-10' 'Dec-09' 'Jul-09' 'Jan-11' 'Dec-10' 'Oct-09' 'Dec-08' 'Feb-09'\n",
      " 'Aug-07' 'Aug-10' 'Jun-07' 'May-07' 'Jun-09' 'Dec-07' 'Mar-08' 'Jan-10'\n",
      " 'Mar-09' 'Aug-09' 'Feb-08' 'Oct-08' 'May-09' 'Aug-08' 'Apr-09' 'Jan-08'\n",
      " 'Sep-08' 'Sep-07' 'Oct-07' 'Nov-07' 'Jul-08' 'Jun-08' 'May-08']\n",
      "\n",
      "application_type\n",
      "['INDIVIDUAL']\n",
      "\n"
     ]
    }
   ],
   "source": [
    "# Dapat dilakukan print untuk semua unique values kolom, sehingga dapat di cek satu-satu unique values apa saja yang kotor.\n",
    "for col in X_train.select_dtypes(include= ['object','bool']).columns:\n",
    "     print(col)\n",
    "     print(X_train[col].unique())\n",
    "     print()"
   ]
  },
  {
   "cell_type": "code",
   "execution_count": 24,
   "id": "b9a2c1e0-999e-48fa-a317-6aae30a4cfa0",
   "metadata": {},
   "outputs": [],
   "source": [
    "# Kolom/feature yang harus di cleaning\n",
    "col_need_to_clean = ['term', 'emp_length', 'issue_d', 'earliest_cr_line', 'last_pymnt_d', 'next_pymnt_d', 'last_credit_pull_d']"
   ]
  },
  {
   "cell_type": "code",
   "execution_count": 25,
   "id": "34adc0a4-19e0-44a0-9b04-12fe6308bd55",
   "metadata": {},
   "outputs": [
    {
     "data": {
      "text/plain": [
       "array([' 60 months', ' 36 months'], dtype=object)"
      ]
     },
     "execution_count": 25,
     "metadata": {},
     "output_type": "execute_result"
    }
   ],
   "source": [
    "# Menghilangkan ' months' menjadi ''\n",
    "X_train['term'].unique()"
   ]
  },
  {
   "cell_type": "code",
   "execution_count": 26,
   "id": "ac2c4c07-7fc6-4189-a8b3-1f80fe194932",
   "metadata": {},
   "outputs": [
    {
     "data": {
      "text/plain": [
       "335623    60\n",
       "82177     36\n",
       "339560    36\n",
       "429575    36\n",
       "264917    36\n",
       "          ..\n",
       "85335     36\n",
       "400460    36\n",
       "3982      60\n",
       "280424    36\n",
       "354718    36\n",
       "Name: term, Length: 373028, dtype: int64"
      ]
     },
     "execution_count": 26,
     "metadata": {},
     "output_type": "execute_result"
    }
   ],
   "source": [
    "pd.to_numeric(X_train['term'].str.replace('months', ''))"
   ]
  },
  {
   "cell_type": "code",
   "execution_count": 27,
   "id": "0ca621a5-5ee8-4e48-a01d-dec7c35810bc",
   "metadata": {},
   "outputs": [],
   "source": [
    "# Convert data type menjadi numeric\n",
    "X_train['term'] = pd.to_numeric(X_train['term'].str.replace('months', ''))"
   ]
  },
  {
   "cell_type": "code",
   "execution_count": 28,
   "id": "2679d62f-4ce9-4a99-a246-3db52025f3cb",
   "metadata": {},
   "outputs": [
    {
     "data": {
      "text/plain": [
       "335623    60\n",
       "82177     36\n",
       "339560    36\n",
       "429575    36\n",
       "264917    36\n",
       "          ..\n",
       "85335     36\n",
       "400460    36\n",
       "3982      60\n",
       "280424    36\n",
       "354718    36\n",
       "Name: term, Length: 373028, dtype: int64"
      ]
     },
     "execution_count": 28,
     "metadata": {},
     "output_type": "execute_result"
    }
   ],
   "source": [
    "X_train['term']"
   ]
  },
  {
   "cell_type": "code",
   "execution_count": 29,
   "id": "bff9823c-55f9-4a3a-80a5-63034408179a",
   "metadata": {},
   "outputs": [
    {
     "data": {
      "text/plain": [
       "array(['9 years', '2 years', '10+ years', '1 year', '< 1 year', '8 years',\n",
       "       nan, '6 years', '3 years', '4 years', '5 years', '7 years'],\n",
       "      dtype=object)"
      ]
     },
     "execution_count": 29,
     "metadata": {},
     "output_type": "execute_result"
    }
   ],
   "source": [
    "# Cek values apa saja yang harus di cleaning\n",
    "X_train['emp_length'].unique()"
   ]
  },
  {
   "cell_type": "code",
   "execution_count": 30,
   "id": "2f415ad4-99e4-4727-9b06-7d5cb3e3f9c9",
   "metadata": {},
   "outputs": [],
   "source": [
    "X_train['emp_length'] = X_train['emp_length'].str.replace('+ years', '')\n",
    "X_train['emp_length'] = X_train['emp_length'].str.replace(' years', '')\n",
    "X_train['emp_length'] = X_train['emp_length'].str.replace('< 1 year', str(0))\n",
    "X_train['emp_length'] = X_train['emp_length'].str.replace(' year', '')\n",
    "\n",
    "X_train['emp_length'].fillna(value = 0, inplace=True)"
   ]
  },
  {
   "cell_type": "code",
   "execution_count": 31,
   "id": "9c8f35f1-5942-4072-8779-0bfd579691e8",
   "metadata": {},
   "outputs": [],
   "source": [
    "X_train['emp_length'] = pd.to_numeric(X_train['emp_length'])"
   ]
  },
  {
   "cell_type": "code",
   "execution_count": 32,
   "id": "adb5f094-79a5-4ddd-8439-60c97d96bd79",
   "metadata": {},
   "outputs": [
    {
     "data": {
      "text/plain": [
       "335623     9\n",
       "82177      2\n",
       "339560    10\n",
       "429575    10\n",
       "264917     1\n",
       "          ..\n",
       "85335      2\n",
       "400460     4\n",
       "3982       4\n",
       "280424     1\n",
       "354718     0\n",
       "Name: emp_length, Length: 373028, dtype: int64"
      ]
     },
     "execution_count": 32,
     "metadata": {},
     "output_type": "execute_result"
    }
   ],
   "source": [
    "X_train['emp_length']"
   ]
  },
  {
   "cell_type": "code",
   "execution_count": 33,
   "id": "e6a17cfa-b231-4cc7-948a-a700cffd6d84",
   "metadata": {},
   "outputs": [
    {
     "data": {
      "text/html": [
       "<div>\n",
       "<style scoped>\n",
       "    .dataframe tbody tr th:only-of-type {\n",
       "        vertical-align: middle;\n",
       "    }\n",
       "\n",
       "    .dataframe tbody tr th {\n",
       "        vertical-align: top;\n",
       "    }\n",
       "\n",
       "    .dataframe thead th {\n",
       "        text-align: right;\n",
       "    }\n",
       "</style>\n",
       "<table border=\"1\" class=\"dataframe\">\n",
       "  <thead>\n",
       "    <tr style=\"text-align: right;\">\n",
       "      <th></th>\n",
       "      <th>issue_d</th>\n",
       "      <th>earliest_cr_line</th>\n",
       "      <th>last_pymnt_d</th>\n",
       "      <th>next_pymnt_d</th>\n",
       "      <th>last_credit_pull_d</th>\n",
       "    </tr>\n",
       "  </thead>\n",
       "  <tbody>\n",
       "    <tr>\n",
       "      <th>335623</th>\n",
       "      <td>Jul-14</td>\n",
       "      <td>Apr-92</td>\n",
       "      <td>Jan-16</td>\n",
       "      <td>Jan-16</td>\n",
       "      <td>Jan-16</td>\n",
       "    </tr>\n",
       "    <tr>\n",
       "      <th>82177</th>\n",
       "      <td>Oct-13</td>\n",
       "      <td>Oct-94</td>\n",
       "      <td>Dec-13</td>\n",
       "      <td>NaN</td>\n",
       "      <td>May-14</td>\n",
       "    </tr>\n",
       "    <tr>\n",
       "      <th>339560</th>\n",
       "      <td>Jul-14</td>\n",
       "      <td>Mar-94</td>\n",
       "      <td>Mar-15</td>\n",
       "      <td>NaN</td>\n",
       "      <td>Mar-15</td>\n",
       "    </tr>\n",
       "    <tr>\n",
       "      <th>429575</th>\n",
       "      <td>Mar-14</td>\n",
       "      <td>Feb-00</td>\n",
       "      <td>Aug-15</td>\n",
       "      <td>NaN</td>\n",
       "      <td>Jan-16</td>\n",
       "    </tr>\n",
       "    <tr>\n",
       "      <th>264917</th>\n",
       "      <td>Oct-14</td>\n",
       "      <td>Mar-01</td>\n",
       "      <td>Oct-15</td>\n",
       "      <td>Jan-16</td>\n",
       "      <td>Jan-16</td>\n",
       "    </tr>\n",
       "    <tr>\n",
       "      <th>...</th>\n",
       "      <td>...</td>\n",
       "      <td>...</td>\n",
       "      <td>...</td>\n",
       "      <td>...</td>\n",
       "      <td>...</td>\n",
       "    </tr>\n",
       "    <tr>\n",
       "      <th>85335</th>\n",
       "      <td>Sep-13</td>\n",
       "      <td>Jun-89</td>\n",
       "      <td>Jan-16</td>\n",
       "      <td>Jan-16</td>\n",
       "      <td>Jan-16</td>\n",
       "    </tr>\n",
       "    <tr>\n",
       "      <th>400460</th>\n",
       "      <td>Apr-14</td>\n",
       "      <td>Aug-99</td>\n",
       "      <td>Jan-16</td>\n",
       "      <td>Feb-16</td>\n",
       "      <td>Jan-16</td>\n",
       "    </tr>\n",
       "    <tr>\n",
       "      <th>3982</th>\n",
       "      <td>Nov-11</td>\n",
       "      <td>Feb-03</td>\n",
       "      <td>Jun-12</td>\n",
       "      <td>NaN</td>\n",
       "      <td>Nov-12</td>\n",
       "    </tr>\n",
       "    <tr>\n",
       "      <th>280424</th>\n",
       "      <td>Oct-14</td>\n",
       "      <td>Jul-92</td>\n",
       "      <td>Jan-16</td>\n",
       "      <td>Jan-16</td>\n",
       "      <td>Jan-16</td>\n",
       "    </tr>\n",
       "    <tr>\n",
       "      <th>354718</th>\n",
       "      <td>Jul-14</td>\n",
       "      <td>Aug-04</td>\n",
       "      <td>May-15</td>\n",
       "      <td>NaN</td>\n",
       "      <td>Oct-15</td>\n",
       "    </tr>\n",
       "  </tbody>\n",
       "</table>\n",
       "<p>373028 rows × 5 columns</p>\n",
       "</div>"
      ],
      "text/plain": [
       "       issue_d earliest_cr_line last_pymnt_d next_pymnt_d last_credit_pull_d\n",
       "335623  Jul-14           Apr-92       Jan-16       Jan-16             Jan-16\n",
       "82177   Oct-13           Oct-94       Dec-13          NaN             May-14\n",
       "339560  Jul-14           Mar-94       Mar-15          NaN             Mar-15\n",
       "429575  Mar-14           Feb-00       Aug-15          NaN             Jan-16\n",
       "264917  Oct-14           Mar-01       Oct-15       Jan-16             Jan-16\n",
       "...        ...              ...          ...          ...                ...\n",
       "85335   Sep-13           Jun-89       Jan-16       Jan-16             Jan-16\n",
       "400460  Apr-14           Aug-99       Jan-16       Feb-16             Jan-16\n",
       "3982    Nov-11           Feb-03       Jun-12          NaN             Nov-12\n",
       "280424  Oct-14           Jul-92       Jan-16       Jan-16             Jan-16\n",
       "354718  Jul-14           Aug-04       May-15          NaN             Oct-15\n",
       "\n",
       "[373028 rows x 5 columns]"
      ]
     },
     "execution_count": 33,
     "metadata": {},
     "output_type": "execute_result"
    }
   ],
   "source": [
    "# Cek feature date\n",
    "col_date = [ 'issue_d', 'earliest_cr_line', 'last_pymnt_d', 'next_pymnt_d', 'last_credit_pull_d']\n",
    "\n",
    "X_train[col_date]"
   ]
  },
  {
   "cell_type": "code",
   "execution_count": 34,
   "id": "6edb6d6e-687d-4732-87b5-5c53a7f28e88",
   "metadata": {},
   "outputs": [],
   "source": [
    "X_train['issue_d'] = pd.to_datetime(X_train['issue_d'], format='%b-%y')\n",
    "X_train['earliest_cr_line'] = pd.to_datetime(X_train['earliest_cr_line'], format='%b-%y')\n",
    "X_train['last_pymnt_d'] = pd.to_datetime(X_train['last_pymnt_d'], format='%b-%y')\n",
    "X_train['next_pymnt_d'] = pd.to_datetime(X_train['next_pymnt_d'], format='%b-%y')\n",
    "X_train['last_credit_pull_d'] = pd.to_datetime(X_train['last_credit_pull_d'], format='%b-%y')"
   ]
  },
  {
   "cell_type": "code",
   "execution_count": 35,
   "id": "089ae017-b8cf-4a67-915b-e68e1a5e8eb2",
   "metadata": {},
   "outputs": [
    {
     "data": {
      "text/html": [
       "<div>\n",
       "<style scoped>\n",
       "    .dataframe tbody tr th:only-of-type {\n",
       "        vertical-align: middle;\n",
       "    }\n",
       "\n",
       "    .dataframe tbody tr th {\n",
       "        vertical-align: top;\n",
       "    }\n",
       "\n",
       "    .dataframe thead th {\n",
       "        text-align: right;\n",
       "    }\n",
       "</style>\n",
       "<table border=\"1\" class=\"dataframe\">\n",
       "  <thead>\n",
       "    <tr style=\"text-align: right;\">\n",
       "      <th></th>\n",
       "      <th>issue_d</th>\n",
       "      <th>earliest_cr_line</th>\n",
       "      <th>last_pymnt_d</th>\n",
       "      <th>next_pymnt_d</th>\n",
       "      <th>last_credit_pull_d</th>\n",
       "    </tr>\n",
       "  </thead>\n",
       "  <tbody>\n",
       "    <tr>\n",
       "      <th>335623</th>\n",
       "      <td>2014-07-01</td>\n",
       "      <td>1992-04-01</td>\n",
       "      <td>2016-01-01</td>\n",
       "      <td>2016-01-01</td>\n",
       "      <td>2016-01-01</td>\n",
       "    </tr>\n",
       "    <tr>\n",
       "      <th>82177</th>\n",
       "      <td>2013-10-01</td>\n",
       "      <td>1994-10-01</td>\n",
       "      <td>2013-12-01</td>\n",
       "      <td>NaT</td>\n",
       "      <td>2014-05-01</td>\n",
       "    </tr>\n",
       "    <tr>\n",
       "      <th>339560</th>\n",
       "      <td>2014-07-01</td>\n",
       "      <td>1994-03-01</td>\n",
       "      <td>2015-03-01</td>\n",
       "      <td>NaT</td>\n",
       "      <td>2015-03-01</td>\n",
       "    </tr>\n",
       "    <tr>\n",
       "      <th>429575</th>\n",
       "      <td>2014-03-01</td>\n",
       "      <td>2000-02-01</td>\n",
       "      <td>2015-08-01</td>\n",
       "      <td>NaT</td>\n",
       "      <td>2016-01-01</td>\n",
       "    </tr>\n",
       "    <tr>\n",
       "      <th>264917</th>\n",
       "      <td>2014-10-01</td>\n",
       "      <td>2001-03-01</td>\n",
       "      <td>2015-10-01</td>\n",
       "      <td>2016-01-01</td>\n",
       "      <td>2016-01-01</td>\n",
       "    </tr>\n",
       "    <tr>\n",
       "      <th>...</th>\n",
       "      <td>...</td>\n",
       "      <td>...</td>\n",
       "      <td>...</td>\n",
       "      <td>...</td>\n",
       "      <td>...</td>\n",
       "    </tr>\n",
       "    <tr>\n",
       "      <th>85335</th>\n",
       "      <td>2013-09-01</td>\n",
       "      <td>1989-06-01</td>\n",
       "      <td>2016-01-01</td>\n",
       "      <td>2016-01-01</td>\n",
       "      <td>2016-01-01</td>\n",
       "    </tr>\n",
       "    <tr>\n",
       "      <th>400460</th>\n",
       "      <td>2014-04-01</td>\n",
       "      <td>1999-08-01</td>\n",
       "      <td>2016-01-01</td>\n",
       "      <td>2016-02-01</td>\n",
       "      <td>2016-01-01</td>\n",
       "    </tr>\n",
       "    <tr>\n",
       "      <th>3982</th>\n",
       "      <td>2011-11-01</td>\n",
       "      <td>2003-02-01</td>\n",
       "      <td>2012-06-01</td>\n",
       "      <td>NaT</td>\n",
       "      <td>2012-11-01</td>\n",
       "    </tr>\n",
       "    <tr>\n",
       "      <th>280424</th>\n",
       "      <td>2014-10-01</td>\n",
       "      <td>1992-07-01</td>\n",
       "      <td>2016-01-01</td>\n",
       "      <td>2016-01-01</td>\n",
       "      <td>2016-01-01</td>\n",
       "    </tr>\n",
       "    <tr>\n",
       "      <th>354718</th>\n",
       "      <td>2014-07-01</td>\n",
       "      <td>2004-08-01</td>\n",
       "      <td>2015-05-01</td>\n",
       "      <td>NaT</td>\n",
       "      <td>2015-10-01</td>\n",
       "    </tr>\n",
       "  </tbody>\n",
       "</table>\n",
       "<p>373028 rows × 5 columns</p>\n",
       "</div>"
      ],
      "text/plain": [
       "          issue_d earliest_cr_line last_pymnt_d next_pymnt_d  \\\n",
       "335623 2014-07-01       1992-04-01   2016-01-01   2016-01-01   \n",
       "82177  2013-10-01       1994-10-01   2013-12-01          NaT   \n",
       "339560 2014-07-01       1994-03-01   2015-03-01          NaT   \n",
       "429575 2014-03-01       2000-02-01   2015-08-01          NaT   \n",
       "264917 2014-10-01       2001-03-01   2015-10-01   2016-01-01   \n",
       "...           ...              ...          ...          ...   \n",
       "85335  2013-09-01       1989-06-01   2016-01-01   2016-01-01   \n",
       "400460 2014-04-01       1999-08-01   2016-01-01   2016-02-01   \n",
       "3982   2011-11-01       2003-02-01   2012-06-01          NaT   \n",
       "280424 2014-10-01       1992-07-01   2016-01-01   2016-01-01   \n",
       "354718 2014-07-01       2004-08-01   2015-05-01          NaT   \n",
       "\n",
       "       last_credit_pull_d  \n",
       "335623         2016-01-01  \n",
       "82177          2014-05-01  \n",
       "339560         2015-03-01  \n",
       "429575         2016-01-01  \n",
       "264917         2016-01-01  \n",
       "...                   ...  \n",
       "85335          2016-01-01  \n",
       "400460         2016-01-01  \n",
       "3982           2012-11-01  \n",
       "280424         2016-01-01  \n",
       "354718         2015-10-01  \n",
       "\n",
       "[373028 rows x 5 columns]"
      ]
     },
     "execution_count": 35,
     "metadata": {},
     "output_type": "execute_result"
    }
   ],
   "source": [
    "X_train[col_date]"
   ]
  },
  {
   "cell_type": "code",
   "execution_count": 36,
   "id": "35564558-0c3f-493e-aec6-7c642221986e",
   "metadata": {},
   "outputs": [
    {
     "name": "stdout",
     "output_type": "stream",
     "text": [
      "<class 'pandas.core.frame.DataFrame'>\n",
      "Index: 93257 entries, 38664 to 89759\n",
      "Data columns (total 7 columns):\n",
      " #   Column              Non-Null Count  Dtype \n",
      "---  ------              --------------  ----- \n",
      " 0   term                93257 non-null  object\n",
      " 1   emp_length          89173 non-null  object\n",
      " 2   issue_d             93257 non-null  object\n",
      " 3   earliest_cr_line    93252 non-null  object\n",
      " 4   last_pymnt_d        93187 non-null  object\n",
      " 5   next_pymnt_d        47770 non-null  object\n",
      " 6   last_credit_pull_d  93246 non-null  object\n",
      "dtypes: object(7)\n",
      "memory usage: 5.7+ MB\n"
     ]
    }
   ],
   "source": [
    "X_test[col_need_to_clean].info()"
   ]
  },
  {
   "cell_type": "code",
   "execution_count": 37,
   "id": "9bd9d355-ead6-4637-8560-0ca69f8d083b",
   "metadata": {},
   "outputs": [
    {
     "data": {
      "text/plain": [
       "array([' 36 months', ' 60 months'], dtype=object)"
      ]
     },
     "execution_count": 37,
     "metadata": {},
     "output_type": "execute_result"
    }
   ],
   "source": [
    "X_test['term'].unique()"
   ]
  },
  {
   "cell_type": "code",
   "execution_count": 38,
   "id": "c4d279b0-ec88-46da-86b4-8fd22646fefb",
   "metadata": {},
   "outputs": [
    {
     "data": {
      "text/plain": [
       "38664     36\n",
       "251508    36\n",
       "11299     60\n",
       "407595    36\n",
       "439516    60\n",
       "          ..\n",
       "384945    60\n",
       "464682    60\n",
       "261146    60\n",
       "40763     36\n",
       "89759     36\n",
       "Name: term, Length: 93257, dtype: int64"
      ]
     },
     "execution_count": 38,
     "metadata": {},
     "output_type": "execute_result"
    }
   ],
   "source": [
    "pd.to_numeric(X_test['term'].str.replace('months', ''))"
   ]
  },
  {
   "cell_type": "code",
   "execution_count": 39,
   "id": "73ceb5c4-99d5-4025-ae6c-5f4ee055e925",
   "metadata": {},
   "outputs": [],
   "source": [
    "# Lakukan hal yang sama untuk X_test\n",
    "X_test['term'] = pd.to_numeric(X_test['term'].str.replace('months', ''))"
   ]
  },
  {
   "cell_type": "code",
   "execution_count": 40,
   "id": "34d2bc55-62e8-460a-86be-b8bcc04130e4",
   "metadata": {},
   "outputs": [
    {
     "data": {
      "text/plain": [
       "array(['2 years', '10+ years', '7 years', '9 years', '5 years',\n",
       "       '< 1 year', '3 years', '1 year', '6 years', '8 years', nan,\n",
       "       '4 years'], dtype=object)"
      ]
     },
     "execution_count": 40,
     "metadata": {},
     "output_type": "execute_result"
    }
   ],
   "source": [
    "X_test['emp_length'].unique()"
   ]
  },
  {
   "cell_type": "code",
   "execution_count": 41,
   "id": "ba3a2939-a2cf-4fe3-94d5-55582222ed72",
   "metadata": {},
   "outputs": [],
   "source": [
    "X_test['emp_length'] = X_test['emp_length'].str.replace('+ years', '')\n",
    "X_test['emp_length'] = X_test['emp_length'].str.replace('years', '')\n",
    "X_test['emp_length'] = X_test['emp_length'].str.replace('< 1 year', str(0))\n",
    "X_test['emp_length'] = X_test['emp_length'].str.replace('year', '')\n",
    "\n",
    "X_test['emp_length'].fillna(value = 0, inplace=True)"
   ]
  },
  {
   "cell_type": "code",
   "execution_count": 42,
   "id": "99b267e0-5f37-4bd9-bd89-1f7e9fb926f6",
   "metadata": {},
   "outputs": [
    {
     "data": {
      "text/plain": [
       "array(['2 ', '10', '7 ', '9 ', '5 ', '0', '3 ', '1 ', '6 ', '8 ', 0, '4 '],\n",
       "      dtype=object)"
      ]
     },
     "execution_count": 42,
     "metadata": {},
     "output_type": "execute_result"
    }
   ],
   "source": [
    "X_test['emp_length'].unique()"
   ]
  },
  {
   "cell_type": "code",
   "execution_count": 43,
   "id": "49e27df2-4416-4f31-bb76-2dd1bad2ed2c",
   "metadata": {},
   "outputs": [],
   "source": [
    "X_test['emp_length'] = pd.to_numeric(X_test['emp_length'])"
   ]
  },
  {
   "cell_type": "code",
   "execution_count": 44,
   "id": "456ef70a-2c4d-49d2-bf95-685bcc64d441",
   "metadata": {},
   "outputs": [
    {
     "name": "stdout",
     "output_type": "stream",
     "text": [
      "<class 'pandas.core.frame.DataFrame'>\n",
      "Index: 93257 entries, 38664 to 89759\n",
      "Data columns (total 7 columns):\n",
      " #   Column              Non-Null Count  Dtype \n",
      "---  ------              --------------  ----- \n",
      " 0   term                93257 non-null  int64 \n",
      " 1   emp_length          93257 non-null  int64 \n",
      " 2   issue_d             93257 non-null  object\n",
      " 3   earliest_cr_line    93252 non-null  object\n",
      " 4   last_pymnt_d        93187 non-null  object\n",
      " 5   next_pymnt_d        47770 non-null  object\n",
      " 6   last_credit_pull_d  93246 non-null  object\n",
      "dtypes: int64(2), object(5)\n",
      "memory usage: 5.7+ MB\n"
     ]
    }
   ],
   "source": [
    "# Check apakah berhasil di cleaning\n",
    "X_test[col_need_to_clean].info()"
   ]
  },
  {
   "cell_type": "code",
   "execution_count": 45,
   "id": "746a9575-62ae-438e-8227-a7f388676dfb",
   "metadata": {},
   "outputs": [
    {
     "data": {
      "text/html": [
       "<div>\n",
       "<style scoped>\n",
       "    .dataframe tbody tr th:only-of-type {\n",
       "        vertical-align: middle;\n",
       "    }\n",
       "\n",
       "    .dataframe tbody tr th {\n",
       "        vertical-align: top;\n",
       "    }\n",
       "\n",
       "    .dataframe thead th {\n",
       "        text-align: right;\n",
       "    }\n",
       "</style>\n",
       "<table border=\"1\" class=\"dataframe\">\n",
       "  <thead>\n",
       "    <tr style=\"text-align: right;\">\n",
       "      <th></th>\n",
       "      <th>issue_d</th>\n",
       "      <th>earliest_cr_line</th>\n",
       "      <th>last_pymnt_d</th>\n",
       "      <th>next_pymnt_d</th>\n",
       "      <th>last_credit_pull_d</th>\n",
       "    </tr>\n",
       "  </thead>\n",
       "  <tbody>\n",
       "    <tr>\n",
       "      <th>38664</th>\n",
       "      <td>Jun-08</td>\n",
       "      <td>Sep-86</td>\n",
       "      <td>Jul-11</td>\n",
       "      <td>NaN</td>\n",
       "      <td>May-12</td>\n",
       "    </tr>\n",
       "    <tr>\n",
       "      <th>251508</th>\n",
       "      <td>Nov-14</td>\n",
       "      <td>Oct-01</td>\n",
       "      <td>Dec-15</td>\n",
       "      <td>Jan-16</td>\n",
       "      <td>Jan-16</td>\n",
       "    </tr>\n",
       "    <tr>\n",
       "      <th>11299</th>\n",
       "      <td>Jul-11</td>\n",
       "      <td>Oct-96</td>\n",
       "      <td>Oct-15</td>\n",
       "      <td>NaN</td>\n",
       "      <td>Oct-15</td>\n",
       "    </tr>\n",
       "    <tr>\n",
       "      <th>407595</th>\n",
       "      <td>Apr-14</td>\n",
       "      <td>Sep-98</td>\n",
       "      <td>Jan-16</td>\n",
       "      <td>Feb-16</td>\n",
       "      <td>Jan-16</td>\n",
       "    </tr>\n",
       "    <tr>\n",
       "      <th>439516</th>\n",
       "      <td>Feb-14</td>\n",
       "      <td>Jul-88</td>\n",
       "      <td>Dec-15</td>\n",
       "      <td>Feb-16</td>\n",
       "      <td>Jan-16</td>\n",
       "    </tr>\n",
       "    <tr>\n",
       "      <th>...</th>\n",
       "      <td>...</td>\n",
       "      <td>...</td>\n",
       "      <td>...</td>\n",
       "      <td>...</td>\n",
       "      <td>...</td>\n",
       "    </tr>\n",
       "    <tr>\n",
       "      <th>384945</th>\n",
       "      <td>May-14</td>\n",
       "      <td>Nov-90</td>\n",
       "      <td>Jan-16</td>\n",
       "      <td>Feb-16</td>\n",
       "      <td>Jan-16</td>\n",
       "    </tr>\n",
       "    <tr>\n",
       "      <th>464682</th>\n",
       "      <td>Jan-14</td>\n",
       "      <td>Apr-96</td>\n",
       "      <td>Nov-14</td>\n",
       "      <td>NaN</td>\n",
       "      <td>Nov-14</td>\n",
       "    </tr>\n",
       "    <tr>\n",
       "      <th>261146</th>\n",
       "      <td>Nov-14</td>\n",
       "      <td>Nov-06</td>\n",
       "      <td>Jun-15</td>\n",
       "      <td>NaN</td>\n",
       "      <td>Dec-15</td>\n",
       "    </tr>\n",
       "    <tr>\n",
       "      <th>40763</th>\n",
       "      <td>Jan-10</td>\n",
       "      <td>Dec-89</td>\n",
       "      <td>Mar-13</td>\n",
       "      <td>Mar-13</td>\n",
       "      <td>Feb-13</td>\n",
       "    </tr>\n",
       "    <tr>\n",
       "      <th>89759</th>\n",
       "      <td>Sep-13</td>\n",
       "      <td>May-96</td>\n",
       "      <td>Sep-14</td>\n",
       "      <td>NaN</td>\n",
       "      <td>Jan-16</td>\n",
       "    </tr>\n",
       "  </tbody>\n",
       "</table>\n",
       "<p>93257 rows × 5 columns</p>\n",
       "</div>"
      ],
      "text/plain": [
       "       issue_d earliest_cr_line last_pymnt_d next_pymnt_d last_credit_pull_d\n",
       "38664   Jun-08           Sep-86       Jul-11          NaN             May-12\n",
       "251508  Nov-14           Oct-01       Dec-15       Jan-16             Jan-16\n",
       "11299   Jul-11           Oct-96       Oct-15          NaN             Oct-15\n",
       "407595  Apr-14           Sep-98       Jan-16       Feb-16             Jan-16\n",
       "439516  Feb-14           Jul-88       Dec-15       Feb-16             Jan-16\n",
       "...        ...              ...          ...          ...                ...\n",
       "384945  May-14           Nov-90       Jan-16       Feb-16             Jan-16\n",
       "464682  Jan-14           Apr-96       Nov-14          NaN             Nov-14\n",
       "261146  Nov-14           Nov-06       Jun-15          NaN             Dec-15\n",
       "40763   Jan-10           Dec-89       Mar-13       Mar-13             Feb-13\n",
       "89759   Sep-13           May-96       Sep-14          NaN             Jan-16\n",
       "\n",
       "[93257 rows x 5 columns]"
      ]
     },
     "execution_count": 45,
     "metadata": {},
     "output_type": "execute_result"
    }
   ],
   "source": [
    "col_date = [ 'issue_d', 'earliest_cr_line', 'last_pymnt_d', 'next_pymnt_d', 'last_credit_pull_d']\n",
    "\n",
    "X_test[col_date]"
   ]
  },
  {
   "cell_type": "code",
   "execution_count": 46,
   "id": "58a8f071-28b3-4fa8-82ec-3ef49d28ece0",
   "metadata": {},
   "outputs": [],
   "source": [
    "X_test['issue_d'] = pd.to_datetime(X_test['issue_d'], format='%b-%y')\n",
    "X_test['earliest_cr_line'] = pd.to_datetime(X_test['earliest_cr_line'], format='%b-%y')\n",
    "X_test['last_pymnt_d'] = pd.to_datetime(X_test['last_pymnt_d'], format='%b-%y')\n",
    "X_test['next_pymnt_d'] = pd.to_datetime(X_test['next_pymnt_d'], format='%b-%y')\n",
    "X_test['last_credit_pull_d'] = pd.to_datetime(X_test['last_credit_pull_d'], format='%b-%y')"
   ]
  },
  {
   "cell_type": "code",
   "execution_count": 47,
   "id": "938b9438-e346-4e79-b3b3-d9b2e9c12383",
   "metadata": {},
   "outputs": [
    {
     "name": "stdout",
     "output_type": "stream",
     "text": [
      "<class 'pandas.core.frame.DataFrame'>\n",
      "Index: 93257 entries, 38664 to 89759\n",
      "Data columns (total 7 columns):\n",
      " #   Column              Non-Null Count  Dtype         \n",
      "---  ------              --------------  -----         \n",
      " 0   term                93257 non-null  int64         \n",
      " 1   emp_length          93257 non-null  int64         \n",
      " 2   issue_d             93257 non-null  datetime64[ns]\n",
      " 3   earliest_cr_line    93252 non-null  datetime64[ns]\n",
      " 4   last_pymnt_d        93187 non-null  datetime64[ns]\n",
      " 5   next_pymnt_d        47770 non-null  datetime64[ns]\n",
      " 6   last_credit_pull_d  93246 non-null  datetime64[ns]\n",
      "dtypes: datetime64[ns](5), int64(2)\n",
      "memory usage: 5.7 MB\n"
     ]
    }
   ],
   "source": [
    "# Check apakah berhasil di cleaning\n",
    "X_test[col_need_to_clean].info()"
   ]
  },
  {
   "cell_type": "markdown",
   "id": "84d2359d-7ed0-4d98-951f-052ace32ec75",
   "metadata": {},
   "source": [
    "FEATURING ENGINERING"
   ]
  },
  {
   "cell_type": "code",
   "execution_count": 48,
   "id": "2a757277-dba7-4c2c-98b0-5eb4fc1cd3dd",
   "metadata": {},
   "outputs": [
    {
     "data": {
      "text/plain": [
       "((373028, 54), (373028,), (93257, 54), (93257,))"
      ]
     },
     "execution_count": 48,
     "metadata": {},
     "output_type": "execute_result"
    }
   ],
   "source": [
    "X_train.shape, y_train.shape, X_test.shape, y_test.shape"
   ]
  },
  {
   "cell_type": "code",
   "execution_count": 49,
   "id": "46277a08-1395-4c65-a7b9-75f74df44b44",
   "metadata": {},
   "outputs": [
    {
     "data": {
      "text/plain": [
       "['term',\n",
       " 'emp_length',\n",
       " 'issue_d',\n",
       " 'earliest_cr_line',\n",
       " 'last_pymnt_d',\n",
       " 'next_pymnt_d',\n",
       " 'last_credit_pull_d']"
      ]
     },
     "execution_count": 49,
     "metadata": {},
     "output_type": "execute_result"
    }
   ],
   "source": [
    "# Kolom yang akan di feature engineering\n",
    "col_need_to_clean"
   ]
  },
  {
   "cell_type": "code",
   "execution_count": 50,
   "id": "4401e617-c4a5-4fc0-ae00-fdf831ba7361",
   "metadata": {},
   "outputs": [],
   "source": [
    "X_train = X_train[col_need_to_clean]\n",
    "X_test = X_test[col_need_to_clean]"
   ]
  },
  {
   "cell_type": "code",
   "execution_count": 51,
   "id": "b210129a-c72d-4963-b519-9bd299be901f",
   "metadata": {},
   "outputs": [],
   "source": [
    "# tidak dibutuhkan untuk feature engineering\n",
    "del X_train['next_pymnt_d']\n",
    "del X_test['next_pymnt_d']"
   ]
  },
  {
   "cell_type": "code",
   "execution_count": 52,
   "id": "aa36388a-19c7-43d5-815b-34e3b0bc63ec",
   "metadata": {},
   "outputs": [
    {
     "data": {
      "text/plain": [
       "((373028, 6), (373028, 6))"
      ]
     },
     "execution_count": 52,
     "metadata": {},
     "output_type": "execute_result"
    }
   ],
   "source": [
    "X_train.shape, X_train.shape"
   ]
  },
  {
   "cell_type": "code",
   "execution_count": 53,
   "id": "64e77345-311f-44a9-9adb-fe8fe3548a77",
   "metadata": {},
   "outputs": [
    {
     "data": {
      "text/plain": [
       "'2023-12-05'"
      ]
     },
     "execution_count": 53,
     "metadata": {},
     "output_type": "execute_result"
    }
   ],
   "source": [
    "from datetime import date\n",
    "\n",
    "date.today().strftime('%Y-%m-%d')"
   ]
  },
  {
   "cell_type": "code",
   "execution_count": 54,
   "id": "89757494-9df7-4de6-a538-5a245493b425",
   "metadata": {},
   "outputs": [],
   "source": [
    "today_str = date.today().strftime('%y-%m-%d')"
   ]
  },
  {
   "cell_type": "code",
   "execution_count": 55,
   "id": "c23e52ad-91c3-4310-b6f3-ef197d161199",
   "metadata": {},
   "outputs": [],
   "source": [
    "today_datetime = pd.to_datetime(today_str, format='%y-%m-%d')"
   ]
  },
  {
   "cell_type": "code",
   "execution_count": 56,
   "id": "545726c4-c6bb-46b8-9bb2-ba481e6f3d4b",
   "metadata": {},
   "outputs": [],
   "source": [
    "selisih_hari = today_datetime - pd.to_datetime('2008-06-01')"
   ]
  },
  {
   "cell_type": "code",
   "execution_count": 57,
   "id": "68d6755e-1a88-434c-8429-7acc70061861",
   "metadata": {},
   "outputs": [
    {
     "data": {
      "text/plain": [
       "Timedelta('5665 days 00:00:00')"
      ]
     },
     "execution_count": 57,
     "metadata": {},
     "output_type": "execute_result"
    }
   ],
   "source": [
    "selisih_hari"
   ]
  },
  {
   "cell_type": "code",
   "execution_count": 58,
   "id": "37f69d07-494e-4bcf-aa55-ff61bfca8a4d",
   "metadata": {},
   "outputs": [
    {
     "data": {
      "text/html": [
       "<div>\n",
       "<style scoped>\n",
       "    .dataframe tbody tr th:only-of-type {\n",
       "        vertical-align: middle;\n",
       "    }\n",
       "\n",
       "    .dataframe tbody tr th {\n",
       "        vertical-align: top;\n",
       "    }\n",
       "\n",
       "    .dataframe thead th {\n",
       "        text-align: right;\n",
       "    }\n",
       "</style>\n",
       "<table border=\"1\" class=\"dataframe\">\n",
       "  <thead>\n",
       "    <tr style=\"text-align: right;\">\n",
       "      <th></th>\n",
       "      <th>term</th>\n",
       "      <th>emp_length</th>\n",
       "      <th>issue_d</th>\n",
       "      <th>earliest_cr_line</th>\n",
       "      <th>last_pymnt_d</th>\n",
       "      <th>last_credit_pull_d</th>\n",
       "    </tr>\n",
       "  </thead>\n",
       "  <tbody>\n",
       "    <tr>\n",
       "      <th>335623</th>\n",
       "      <td>60</td>\n",
       "      <td>9</td>\n",
       "      <td>2014-07-01</td>\n",
       "      <td>1992-04-01</td>\n",
       "      <td>2016-01-01</td>\n",
       "      <td>2016-01-01</td>\n",
       "    </tr>\n",
       "    <tr>\n",
       "      <th>82177</th>\n",
       "      <td>36</td>\n",
       "      <td>2</td>\n",
       "      <td>2013-10-01</td>\n",
       "      <td>1994-10-01</td>\n",
       "      <td>2013-12-01</td>\n",
       "      <td>2014-05-01</td>\n",
       "    </tr>\n",
       "    <tr>\n",
       "      <th>339560</th>\n",
       "      <td>36</td>\n",
       "      <td>10</td>\n",
       "      <td>2014-07-01</td>\n",
       "      <td>1994-03-01</td>\n",
       "      <td>2015-03-01</td>\n",
       "      <td>2015-03-01</td>\n",
       "    </tr>\n",
       "    <tr>\n",
       "      <th>429575</th>\n",
       "      <td>36</td>\n",
       "      <td>10</td>\n",
       "      <td>2014-03-01</td>\n",
       "      <td>2000-02-01</td>\n",
       "      <td>2015-08-01</td>\n",
       "      <td>2016-01-01</td>\n",
       "    </tr>\n",
       "    <tr>\n",
       "      <th>264917</th>\n",
       "      <td>36</td>\n",
       "      <td>1</td>\n",
       "      <td>2014-10-01</td>\n",
       "      <td>2001-03-01</td>\n",
       "      <td>2015-10-01</td>\n",
       "      <td>2016-01-01</td>\n",
       "    </tr>\n",
       "    <tr>\n",
       "      <th>...</th>\n",
       "      <td>...</td>\n",
       "      <td>...</td>\n",
       "      <td>...</td>\n",
       "      <td>...</td>\n",
       "      <td>...</td>\n",
       "      <td>...</td>\n",
       "    </tr>\n",
       "    <tr>\n",
       "      <th>85335</th>\n",
       "      <td>36</td>\n",
       "      <td>2</td>\n",
       "      <td>2013-09-01</td>\n",
       "      <td>1989-06-01</td>\n",
       "      <td>2016-01-01</td>\n",
       "      <td>2016-01-01</td>\n",
       "    </tr>\n",
       "    <tr>\n",
       "      <th>400460</th>\n",
       "      <td>36</td>\n",
       "      <td>4</td>\n",
       "      <td>2014-04-01</td>\n",
       "      <td>1999-08-01</td>\n",
       "      <td>2016-01-01</td>\n",
       "      <td>2016-01-01</td>\n",
       "    </tr>\n",
       "    <tr>\n",
       "      <th>3982</th>\n",
       "      <td>60</td>\n",
       "      <td>4</td>\n",
       "      <td>2011-11-01</td>\n",
       "      <td>2003-02-01</td>\n",
       "      <td>2012-06-01</td>\n",
       "      <td>2012-11-01</td>\n",
       "    </tr>\n",
       "    <tr>\n",
       "      <th>280424</th>\n",
       "      <td>36</td>\n",
       "      <td>1</td>\n",
       "      <td>2014-10-01</td>\n",
       "      <td>1992-07-01</td>\n",
       "      <td>2016-01-01</td>\n",
       "      <td>2016-01-01</td>\n",
       "    </tr>\n",
       "    <tr>\n",
       "      <th>354718</th>\n",
       "      <td>36</td>\n",
       "      <td>0</td>\n",
       "      <td>2014-07-01</td>\n",
       "      <td>2004-08-01</td>\n",
       "      <td>2015-05-01</td>\n",
       "      <td>2015-10-01</td>\n",
       "    </tr>\n",
       "  </tbody>\n",
       "</table>\n",
       "<p>373028 rows × 6 columns</p>\n",
       "</div>"
      ],
      "text/plain": [
       "        term  emp_length    issue_d earliest_cr_line last_pymnt_d  \\\n",
       "335623    60           9 2014-07-01       1992-04-01   2016-01-01   \n",
       "82177     36           2 2013-10-01       1994-10-01   2013-12-01   \n",
       "339560    36          10 2014-07-01       1994-03-01   2015-03-01   \n",
       "429575    36          10 2014-03-01       2000-02-01   2015-08-01   \n",
       "264917    36           1 2014-10-01       2001-03-01   2015-10-01   \n",
       "...      ...         ...        ...              ...          ...   \n",
       "85335     36           2 2013-09-01       1989-06-01   2016-01-01   \n",
       "400460    36           4 2014-04-01       1999-08-01   2016-01-01   \n",
       "3982      60           4 2011-11-01       2003-02-01   2012-06-01   \n",
       "280424    36           1 2014-10-01       1992-07-01   2016-01-01   \n",
       "354718    36           0 2014-07-01       2004-08-01   2015-05-01   \n",
       "\n",
       "       last_credit_pull_d  \n",
       "335623         2016-01-01  \n",
       "82177          2014-05-01  \n",
       "339560         2015-03-01  \n",
       "429575         2016-01-01  \n",
       "264917         2016-01-01  \n",
       "...                   ...  \n",
       "85335          2016-01-01  \n",
       "400460         2016-01-01  \n",
       "3982           2012-11-01  \n",
       "280424         2016-01-01  \n",
       "354718         2015-10-01  \n",
       "\n",
       "[373028 rows x 6 columns]"
      ]
     },
     "execution_count": 58,
     "metadata": {},
     "output_type": "execute_result"
    }
   ],
   "source": [
    "X_train"
   ]
  },
  {
   "cell_type": "code",
   "execution_count": 59,
   "id": "03fc60ff-b000-412d-9f6e-5673da2f31fb",
   "metadata": {},
   "outputs": [],
   "source": [
    "# feature engineering untuk date columns\n",
    "def date_columns(df, column):\n",
    "    today_datetime = pd.to_datetime(datetime.today().strftime('%m-%y'), format='%m-%y')\n",
    "    df[column] = pd.to_datetime(df[column], format=\"%m-%y\")\n",
    "    df['mths_since_' + column] = round((today_datetime - df[column]) / np.timedelta64(1, 'm'))\n",
    "    df.drop(columns=[column], inplace=True)\n",
    "\n",
    "# apply to X_train\n",
    "date_columns(X_train, 'earliest_cr_line')\n",
    "date_columns(X_train, 'issue_d')\n",
    "date_columns(X_train, 'last_pymnt_d')\n",
    "date_columns(X_train, 'last_credit_pull_d')"
   ]
  },
  {
   "cell_type": "code",
   "execution_count": 60,
   "id": "f55cf72a-f82a-44d1-b2f2-56f1c97c2673",
   "metadata": {},
   "outputs": [],
   "source": [
    "# apply to X_test\n",
    "date_columns(X_test, 'earliest_cr_line')\n",
    "date_columns(X_test, 'issue_d')\n",
    "date_columns(X_test, 'last_pymnt_d')\n",
    "date_columns(X_test, 'last_credit_pull_d')"
   ]
  },
  {
   "cell_type": "code",
   "execution_count": 61,
   "id": "d9360f05-b4e4-4315-8227-913662bb007c",
   "metadata": {},
   "outputs": [
    {
     "data": {
      "text/html": [
       "<div>\n",
       "<style scoped>\n",
       "    .dataframe tbody tr th:only-of-type {\n",
       "        vertical-align: middle;\n",
       "    }\n",
       "\n",
       "    .dataframe tbody tr th {\n",
       "        vertical-align: top;\n",
       "    }\n",
       "\n",
       "    .dataframe thead th {\n",
       "        text-align: right;\n",
       "    }\n",
       "</style>\n",
       "<table border=\"1\" class=\"dataframe\">\n",
       "  <thead>\n",
       "    <tr style=\"text-align: right;\">\n",
       "      <th></th>\n",
       "      <th>term</th>\n",
       "      <th>emp_length</th>\n",
       "      <th>mths_since_earliest_cr_line</th>\n",
       "      <th>mths_since_issue_d</th>\n",
       "      <th>mths_since_last_pymnt_d</th>\n",
       "      <th>mths_since_last_credit_pull_d</th>\n",
       "    </tr>\n",
       "  </thead>\n",
       "  <tbody>\n",
       "    <tr>\n",
       "      <th>335623</th>\n",
       "      <td>60</td>\n",
       "      <td>9</td>\n",
       "      <td>16655040.0</td>\n",
       "      <td>4953600.0</td>\n",
       "      <td>4163040.0</td>\n",
       "      <td>4163040.0</td>\n",
       "    </tr>\n",
       "    <tr>\n",
       "      <th>82177</th>\n",
       "      <td>36</td>\n",
       "      <td>2</td>\n",
       "      <td>15340320.0</td>\n",
       "      <td>5346720.0</td>\n",
       "      <td>5258880.0</td>\n",
       "      <td>5041440.0</td>\n",
       "    </tr>\n",
       "    <tr>\n",
       "      <th>339560</th>\n",
       "      <td>36</td>\n",
       "      <td>10</td>\n",
       "      <td>15648480.0</td>\n",
       "      <td>4953600.0</td>\n",
       "      <td>4603680.0</td>\n",
       "      <td>4603680.0</td>\n",
       "    </tr>\n",
       "    <tr>\n",
       "      <th>429575</th>\n",
       "      <td>36</td>\n",
       "      <td>10</td>\n",
       "      <td>12533760.0</td>\n",
       "      <td>5129280.0</td>\n",
       "      <td>4383360.0</td>\n",
       "      <td>4163040.0</td>\n",
       "    </tr>\n",
       "    <tr>\n",
       "      <th>264917</th>\n",
       "      <td>36</td>\n",
       "      <td>1</td>\n",
       "      <td>11966400.0</td>\n",
       "      <td>4821120.0</td>\n",
       "      <td>4295520.0</td>\n",
       "      <td>4163040.0</td>\n",
       "    </tr>\n",
       "    <tr>\n",
       "      <th>...</th>\n",
       "      <td>...</td>\n",
       "      <td>...</td>\n",
       "      <td>...</td>\n",
       "      <td>...</td>\n",
       "      <td>...</td>\n",
       "      <td>...</td>\n",
       "    </tr>\n",
       "    <tr>\n",
       "      <th>85335</th>\n",
       "      <td>36</td>\n",
       "      <td>2</td>\n",
       "      <td>18145440.0</td>\n",
       "      <td>5389920.0</td>\n",
       "      <td>4163040.0</td>\n",
       "      <td>4163040.0</td>\n",
       "    </tr>\n",
       "    <tr>\n",
       "      <th>400460</th>\n",
       "      <td>36</td>\n",
       "      <td>4</td>\n",
       "      <td>12798720.0</td>\n",
       "      <td>5084640.0</td>\n",
       "      <td>4163040.0</td>\n",
       "      <td>4163040.0</td>\n",
       "    </tr>\n",
       "    <tr>\n",
       "      <th>3982</th>\n",
       "      <td>60</td>\n",
       "      <td>4</td>\n",
       "      <td>10955520.0</td>\n",
       "      <td>6354720.0</td>\n",
       "      <td>6048000.0</td>\n",
       "      <td>5827680.0</td>\n",
       "    </tr>\n",
       "    <tr>\n",
       "      <th>280424</th>\n",
       "      <td>36</td>\n",
       "      <td>1</td>\n",
       "      <td>16524000.0</td>\n",
       "      <td>4821120.0</td>\n",
       "      <td>4163040.0</td>\n",
       "      <td>4163040.0</td>\n",
       "    </tr>\n",
       "    <tr>\n",
       "      <th>354718</th>\n",
       "      <td>36</td>\n",
       "      <td>0</td>\n",
       "      <td>10167840.0</td>\n",
       "      <td>4953600.0</td>\n",
       "      <td>4515840.0</td>\n",
       "      <td>4295520.0</td>\n",
       "    </tr>\n",
       "  </tbody>\n",
       "</table>\n",
       "<p>373028 rows × 6 columns</p>\n",
       "</div>"
      ],
      "text/plain": [
       "        term  emp_length  mths_since_earliest_cr_line  mths_since_issue_d  \\\n",
       "335623    60           9                   16655040.0           4953600.0   \n",
       "82177     36           2                   15340320.0           5346720.0   \n",
       "339560    36          10                   15648480.0           4953600.0   \n",
       "429575    36          10                   12533760.0           5129280.0   \n",
       "264917    36           1                   11966400.0           4821120.0   \n",
       "...      ...         ...                          ...                 ...   \n",
       "85335     36           2                   18145440.0           5389920.0   \n",
       "400460    36           4                   12798720.0           5084640.0   \n",
       "3982      60           4                   10955520.0           6354720.0   \n",
       "280424    36           1                   16524000.0           4821120.0   \n",
       "354718    36           0                   10167840.0           4953600.0   \n",
       "\n",
       "        mths_since_last_pymnt_d  mths_since_last_credit_pull_d  \n",
       "335623                4163040.0                      4163040.0  \n",
       "82177                 5258880.0                      5041440.0  \n",
       "339560                4603680.0                      4603680.0  \n",
       "429575                4383360.0                      4163040.0  \n",
       "264917                4295520.0                      4163040.0  \n",
       "...                         ...                            ...  \n",
       "85335                 4163040.0                      4163040.0  \n",
       "400460                4163040.0                      4163040.0  \n",
       "3982                  6048000.0                      5827680.0  \n",
       "280424                4163040.0                      4163040.0  \n",
       "354718                4515840.0                      4295520.0  \n",
       "\n",
       "[373028 rows x 6 columns]"
      ]
     },
     "execution_count": 61,
     "metadata": {},
     "output_type": "execute_result"
    }
   ],
   "source": [
    "X_train"
   ]
  },
  {
   "cell_type": "code",
   "execution_count": 62,
   "id": "0120c8d3-d99e-43b0-a683-bbe28dd0912c",
   "metadata": {},
   "outputs": [
    {
     "data": {
      "text/plain": [
       "term                              0\n",
       "emp_length                        0\n",
       "mths_since_earliest_cr_line       5\n",
       "mths_since_issue_d                0\n",
       "mths_since_last_pymnt_d          70\n",
       "mths_since_last_credit_pull_d    11\n",
       "dtype: int64"
      ]
     },
     "execution_count": 62,
     "metadata": {},
     "output_type": "execute_result"
    }
   ],
   "source": [
    "X_test.isnull().sum()"
   ]
  },
  {
   "cell_type": "code",
   "execution_count": 63,
   "id": "846a5be6-7c47-4628-a987-b02585743b7c",
   "metadata": {},
   "outputs": [
    {
     "data": {
      "text/plain": [
       "term                               0\n",
       "emp_length                         0\n",
       "mths_since_earliest_cr_line       24\n",
       "mths_since_issue_d                 0\n",
       "mths_since_last_pymnt_d          306\n",
       "mths_since_last_credit_pull_d     31\n",
       "dtype: int64"
      ]
     },
     "execution_count": 63,
     "metadata": {},
     "output_type": "execute_result"
    }
   ],
   "source": [
    "X_train.isnull().sum()"
   ]
  },
  {
   "cell_type": "markdown",
   "id": "14e98c8b-8ac0-464a-b4f0-0dfb84871311",
   "metadata": {},
   "source": [
    "MODELLING"
   ]
  },
  {
   "cell_type": "code",
   "execution_count": 64,
   "id": "e33120b3-d7a0-4b2b-b605-470f12fd8f36",
   "metadata": {},
   "outputs": [],
   "source": [
    "X_train.fillna(X_train.median(), inplace=True)\n",
    "X_test.fillna(X_test.median(), inplace=True)"
   ]
  },
  {
   "cell_type": "code",
   "execution_count": 65,
   "id": "f2f4ed00-bbbb-4c1b-821f-86a5a25a202b",
   "metadata": {},
   "outputs": [
    {
     "data": {
      "text/plain": [
       "term                             0\n",
       "emp_length                       0\n",
       "mths_since_earliest_cr_line      0\n",
       "mths_since_issue_d               0\n",
       "mths_since_last_pymnt_d          0\n",
       "mths_since_last_credit_pull_d    0\n",
       "dtype: int64"
      ]
     },
     "execution_count": 65,
     "metadata": {},
     "output_type": "execute_result"
    }
   ],
   "source": [
    "X_test.isnull().sum()"
   ]
  },
  {
   "cell_type": "code",
   "execution_count": 66,
   "id": "53849c22-2fd0-4088-95bb-8667ae96ac22",
   "metadata": {},
   "outputs": [
    {
     "data": {
      "text/plain": [
       "term                             0\n",
       "emp_length                       0\n",
       "mths_since_earliest_cr_line      0\n",
       "mths_since_issue_d               0\n",
       "mths_since_last_pymnt_d          0\n",
       "mths_since_last_credit_pull_d    0\n",
       "dtype: int64"
      ]
     },
     "execution_count": 66,
     "metadata": {},
     "output_type": "execute_result"
    }
   ],
   "source": [
    "X_train.isnull().sum()"
   ]
  },
  {
   "cell_type": "code",
   "execution_count": 67,
   "id": "2b5095c1-32b8-445e-9efe-e7cc22bebaa3",
   "metadata": {},
   "outputs": [],
   "source": [
    "from sklearn.linear_model import LogisticRegression"
   ]
  },
  {
   "cell_type": "code",
   "execution_count": 68,
   "id": "3071c4b6-672a-4b59-a610-fb26a028d247",
   "metadata": {},
   "outputs": [],
   "source": [
    "model1 = LogisticRegression()"
   ]
  },
  {
   "cell_type": "code",
   "execution_count": 69,
   "id": "0c065552-dff3-4b33-84c4-85dbda2cd6fd",
   "metadata": {},
   "outputs": [],
   "source": [
    "model1.fit(X_train, y_train)\n",
    "y_pred = model1.predict(X_test)"
   ]
  },
  {
   "cell_type": "code",
   "execution_count": 70,
   "id": "b5f81264-c96b-4170-aa8f-0b3a1095338f",
   "metadata": {},
   "outputs": [
    {
     "data": {
      "text/html": [
       "<div>\n",
       "<style scoped>\n",
       "    .dataframe tbody tr th:only-of-type {\n",
       "        vertical-align: middle;\n",
       "    }\n",
       "\n",
       "    .dataframe tbody tr th {\n",
       "        vertical-align: top;\n",
       "    }\n",
       "\n",
       "    .dataframe thead th {\n",
       "        text-align: right;\n",
       "    }\n",
       "</style>\n",
       "<table border=\"1\" class=\"dataframe\">\n",
       "  <thead>\n",
       "    <tr style=\"text-align: right;\">\n",
       "      <th></th>\n",
       "      <th>y_pred</th>\n",
       "      <th>y_test</th>\n",
       "    </tr>\n",
       "  </thead>\n",
       "  <tbody>\n",
       "    <tr>\n",
       "      <th>0</th>\n",
       "      <td>0</td>\n",
       "      <td>0</td>\n",
       "    </tr>\n",
       "    <tr>\n",
       "      <th>1</th>\n",
       "      <td>0</td>\n",
       "      <td>0</td>\n",
       "    </tr>\n",
       "    <tr>\n",
       "      <th>2</th>\n",
       "      <td>0</td>\n",
       "      <td>0</td>\n",
       "    </tr>\n",
       "    <tr>\n",
       "      <th>3</th>\n",
       "      <td>0</td>\n",
       "      <td>0</td>\n",
       "    </tr>\n",
       "    <tr>\n",
       "      <th>4</th>\n",
       "      <td>0</td>\n",
       "      <td>0</td>\n",
       "    </tr>\n",
       "  </tbody>\n",
       "</table>\n",
       "</div>"
      ],
      "text/plain": [
       "   y_pred  y_test\n",
       "0       0       0\n",
       "1       0       0\n",
       "2       0       0\n",
       "3       0       0\n",
       "4       0       0"
      ]
     },
     "execution_count": 70,
     "metadata": {},
     "output_type": "execute_result"
    }
   ],
   "source": [
    "result = pd.DataFrame(list(zip(y_pred,y_test)), columns = ['y_pred', 'y_test'])\n",
    "result.head()"
   ]
  },
  {
   "cell_type": "code",
   "execution_count": 71,
   "id": "9bd18d62-824a-4dba-aff5-9d5fdf5ad80b",
   "metadata": {},
   "outputs": [
    {
     "data": {
      "text/plain": [
       "0.8867323632542329"
      ]
     },
     "execution_count": 71,
     "metadata": {},
     "output_type": "execute_result"
    }
   ],
   "source": [
    "from sklearn.metrics import accuracy_score\n",
    "accuracy_score(y_test, y_pred)"
   ]
  },
  {
   "cell_type": "code",
   "execution_count": 72,
   "id": "be24a634-ccf6-41b7-b0d8-fea78759dddf",
   "metadata": {},
   "outputs": [
    {
     "name": "stdout",
     "output_type": "stream",
     "text": [
      "Requirement already satisfied: scikit-learn in c:\\users\\lenovo\\pythonlab\\lib\\site-packages (1.3.2)\n",
      "Requirement already satisfied: matplotlib in c:\\users\\lenovo\\pythonlab\\lib\\site-packages (3.8.2)\n",
      "Requirement already satisfied: seaborn in c:\\users\\lenovo\\pythonlab\\lib\\site-packages (0.13.0)\n",
      "Requirement already satisfied: numpy<2.0,>=1.17.3 in c:\\users\\lenovo\\pythonlab\\lib\\site-packages (from scikit-learn) (1.26.2)\n",
      "Requirement already satisfied: scipy>=1.5.0 in c:\\users\\lenovo\\pythonlab\\lib\\site-packages (from scikit-learn) (1.11.4)\n",
      "Requirement already satisfied: joblib>=1.1.1 in c:\\users\\lenovo\\pythonlab\\lib\\site-packages (from scikit-learn) (1.3.2)\n",
      "Requirement already satisfied: threadpoolctl>=2.0.0 in c:\\users\\lenovo\\pythonlab\\lib\\site-packages (from scikit-learn) (3.2.0)\n",
      "Requirement already satisfied: contourpy>=1.0.1 in c:\\users\\lenovo\\pythonlab\\lib\\site-packages (from matplotlib) (1.2.0)\n",
      "Requirement already satisfied: cycler>=0.10 in c:\\users\\lenovo\\pythonlab\\lib\\site-packages (from matplotlib) (0.12.1)\n",
      "Requirement already satisfied: fonttools>=4.22.0 in c:\\users\\lenovo\\pythonlab\\lib\\site-packages (from matplotlib) (4.46.0)\n",
      "Requirement already satisfied: kiwisolver>=1.3.1 in c:\\users\\lenovo\\pythonlab\\lib\\site-packages (from matplotlib) (1.4.5)\n",
      "Requirement already satisfied: packaging>=20.0 in c:\\users\\lenovo\\pythonlab\\lib\\site-packages (from matplotlib) (23.2)\n",
      "Requirement already satisfied: pillow>=8 in c:\\users\\lenovo\\pythonlab\\lib\\site-packages (from matplotlib) (10.1.0)\n",
      "Requirement already satisfied: pyparsing>=2.3.1 in c:\\users\\lenovo\\pythonlab\\lib\\site-packages (from matplotlib) (3.1.1)\n",
      "Requirement already satisfied: python-dateutil>=2.7 in c:\\users\\lenovo\\pythonlab\\lib\\site-packages (from matplotlib) (2.8.2)\n",
      "Requirement already satisfied: pandas>=1.2 in c:\\users\\lenovo\\pythonlab\\lib\\site-packages (from seaborn) (2.1.3)\n",
      "Requirement already satisfied: pytz>=2020.1 in c:\\users\\lenovo\\pythonlab\\lib\\site-packages (from pandas>=1.2->seaborn) (2023.3.post1)\n",
      "Requirement already satisfied: tzdata>=2022.1 in c:\\users\\lenovo\\pythonlab\\lib\\site-packages (from pandas>=1.2->seaborn) (2023.3)\n",
      "Requirement already satisfied: six>=1.5 in c:\\users\\lenovo\\pythonlab\\lib\\site-packages (from python-dateutil>=2.7->matplotlib) (1.16.0)\n",
      "Note: you may need to restart the kernel to use updated packages.\n"
     ]
    }
   ],
   "source": [
    "pip install --upgrade scikit-learn matplotlib seaborn"
   ]
  },
  {
   "cell_type": "code",
   "execution_count": 73,
   "id": "6eca3717-8964-41ce-b5cb-e0f2d298d909",
   "metadata": {},
   "outputs": [],
   "source": [
    "from sklearn.metrics import confusion_matrix\n",
    "import matplotlib.pyplot as plt\n",
    "import seaborn as sns"
   ]
  },
  {
   "cell_type": "code",
   "execution_count": 74,
   "id": "35885a4d-a227-4f7b-888c-7fb0859e3247",
   "metadata": {},
   "outputs": [
    {
     "data": {
      "image/png": "[encoded data removed]",
      "text/plain": [
       "<Figure size 640x480 with 2 Axes>"
      ]
     },
     "metadata": {},
     "output_type": "display_data"
    }
   ],
   "source": [
    "cm = confusion_matrix(y_test, y_pred)\n",
    "\n",
    "sns.heatmap(cm, annot=True, fmt='.0f', cmap=plt.cm.Blues)\n",
    "plt.xlabel('y_pred')\n",
    "plt.ylabel('y_test')\n",
    "\n",
    "plt.show()"
   ]
  },
  {
   "cell_type": "markdown",
   "id": "30f051c6-1a83-435a-9399-0b3c4d795c46",
   "metadata": {},
   "source": [
    "Prediksi 'loan' yang akan berhasil bayar setelah menggunakan thresholds 0.5 yaitu sebesar 82444"
   ]
  },
  {
   "cell_type": "markdown",
   "id": "9d257cbf-d5a7-4ce6-8f86-ca70699bc024",
   "metadata": {},
   "source": [
    "Prediksi 'loan' yang akan gagal bayar setelah menggunakan thresholds 0.5 yaitu sebesar 250"
   ]
  },
  {
   "cell_type": "code",
   "execution_count": 75,
   "id": "9d3f70d5-658a-4292-8c30-1a7e32037cb9",
   "metadata": {},
   "outputs": [
    {
     "data": {
      "text/plain": [
       "good_bad\n",
       "0    0.888081\n",
       "1    0.111919\n",
       "Name: proportion, dtype: float64"
      ]
     },
     "execution_count": 75,
     "metadata": {},
     "output_type": "execute_result"
    }
   ],
   "source": [
    "y_train.value_counts(normalize=True)"
   ]
  },
  {
   "cell_type": "markdown",
   "id": "349e5a7b-68ab-4498-a651-84910cdd727a",
   "metadata": {},
   "source": [
    "MODELLING II"
   ]
  },
  {
   "cell_type": "code",
   "execution_count": 76,
   "id": "49fe41a1-17a5-4e3c-b592-78645fdd579d",
   "metadata": {},
   "outputs": [
    {
     "data": {
      "text/plain": [
       "array([0, 0, 0, ..., 0, 0, 0])"
      ]
     },
     "execution_count": 76,
     "metadata": {},
     "output_type": "execute_result"
    }
   ],
   "source": [
    "model1.predict(X_test)"
   ]
  },
  {
   "cell_type": "code",
   "execution_count": 77,
   "id": "4079cb09-0ff4-4632-a758-6c4a14007ce2",
   "metadata": {},
   "outputs": [],
   "source": [
    "# memprediksi probability dan mengambil probability kelas positive\n",
    "y_pred = model1.predict_proba(X_test)[:, 1]"
   ]
  },
  {
   "cell_type": "code",
   "execution_count": 78,
   "id": "7ba5a788-96f8-4b0d-b556-04744d2a6e65",
   "metadata": {},
   "outputs": [
    {
     "data": {
      "text/plain": [
       "array([0.02252746, 0.14540996, 0.00837925, ..., 0.2620512 , 0.01637653,\n",
       "       0.20757429])"
      ]
     },
     "execution_count": 78,
     "metadata": {},
     "output_type": "execute_result"
    }
   ],
   "source": [
    "y_pred"
   ]
  },
  {
   "cell_type": "code",
   "execution_count": 79,
   "id": "28820bfd-64df-41f9-8cd7-f4675d40ae5a",
   "metadata": {},
   "outputs": [
    {
     "data": {
      "text/plain": [
       "array([0, 0, 0, ..., 0, 0, 0])"
      ]
     },
     "execution_count": 79,
     "metadata": {},
     "output_type": "execute_result"
    }
   ],
   "source": [
    "(y_pred>0.5).astype(int)"
   ]
  },
  {
   "cell_type": "code",
   "execution_count": 80,
   "id": "d10ac472-1154-4944-8a9b-8b1d190c8c4e",
   "metadata": {},
   "outputs": [
    {
     "data": {
      "image/png": "[encoded data removed]",
      "text/plain": [
       "<Figure size 640x480 with 1 Axes>"
      ]
     },
     "metadata": {},
     "output_type": "display_data"
    }
   ],
   "source": [
    "# distribusi predicted probability\n",
    "plt.hist(y_pred);"
   ]
  },
  {
   "cell_type": "markdown",
   "id": "5b4e3371-31c3-468d-b6df-d5e300739f08",
   "metadata": {},
   "source": [
    "Diagram di atas menunjukan nilai probabilitas dominan jatuh pada 0.0 - 0.1"
   ]
  },
  {
   "cell_type": "markdown",
   "id": "09e9d4ea-bbf1-43ea-9a3f-c276137a5edd",
   "metadata": {},
   "source": [
    "Sehingga kurang akurat jika menggunakan threshold 0.5"
   ]
  },
  {
   "cell_type": "code",
   "execution_count": 81,
   "id": "038f2af3-92b7-41bb-a643-30180c29d488",
   "metadata": {},
   "outputs": [],
   "source": [
    "from sklearn.metrics import roc_curve\n",
    "\n",
    "fpr,tpr,thresholds = roc_curve(y_test, y_pred)"
   ]
  },
  {
   "cell_type": "code",
   "execution_count": 82,
   "id": "f411556f-acc5-4dbc-ad1a-dc36107d6d24",
   "metadata": {},
   "outputs": [
    {
     "data": {
      "text/plain": [
       "0.13572690756075814"
      ]
     },
     "execution_count": 82,
     "metadata": {},
     "output_type": "execute_result"
    }
   ],
   "source": [
    "# youden j-statistic\n",
    "j = tpr - fpr\n",
    "\n",
    "ix = np.argmax(j)\n",
    "\n",
    "best_thresh = thresholds[ix]\n",
    "best_thresh"
   ]
  },
  {
   "cell_type": "code",
   "execution_count": 83,
   "id": "c1e23697-c5b7-4feb-b761-7e2172af991e",
   "metadata": {},
   "outputs": [],
   "source": [
    "y_pred = model1.predict_proba(X_test)[:, 1]\n",
    "y_pred = (y_pred > 0.135).astype(int)"
   ]
  },
  {
   "cell_type": "code",
   "execution_count": 84,
   "id": "d0e5b52c-da1d-4dfb-b75e-f8423ab87b4e",
   "metadata": {},
   "outputs": [
    {
     "data": {
      "image/png": "[encoded data removed]",
      "text/plain": [
       "<Figure size 640x480 with 2 Axes>"
      ]
     },
     "metadata": {},
     "output_type": "display_data"
    }
   ],
   "source": [
    "cm = confusion_matrix(y_test, y_pred)\n",
    "\n",
    "sns.heatmap(cm, annot=True, fmt='.0f', cmap=plt.cm.Blues)\n",
    "plt.xlabel('y_pred')\n",
    "plt.ylabel('y_test')\n",
    "\n",
    "plt.show()"
   ]
  },
  {
   "cell_type": "markdown",
   "id": "9286ddb0-8896-4716-a0c9-583888f43568",
   "metadata": {},
   "source": [
    "Prediksi 'loan' yang akan berhasil bayar setelah menggunakan best thresholds yaitu sebesar 63918 atau menurun 22,47%"
   ]
  },
  {
   "cell_type": "markdown",
   "id": "0666feca-2c29-4f12-b4cd-aa631244c78b",
   "metadata": {},
   "source": [
    "Prediksi 'loan' yang akan gagal bayar setelah menggunakan best thresholds yaitu sebesar 6043 atau meningkat 2317%"
   ]
  },
  {
   "cell_type": "code",
   "execution_count": 85,
   "id": "efc10ff7-da13-41b5-b41c-2beb346de8a9",
   "metadata": {},
   "outputs": [
    {
     "data": {
      "text/plain": [
       "array([[ 3.83058994e-12, -9.19738294e-12, -4.72835634e-08,\n",
       "        -1.70048129e-06,  2.45087937e-06, -8.19118463e-07]])"
      ]
     },
     "execution_count": 85,
     "metadata": {},
     "output_type": "execute_result"
    }
   ],
   "source": [
    "model1.coef_"
   ]
  },
  {
   "cell_type": "code",
   "execution_count": 86,
   "id": "2680edcc-2438-4528-b427-aacadbd06800",
   "metadata": {},
   "outputs": [
    {
     "data": {
      "text/plain": [
       "array([-1.19827421e-12])"
      ]
     },
     "execution_count": 86,
     "metadata": {},
     "output_type": "execute_result"
    }
   ],
   "source": [
    "model1.intercept_"
   ]
  },
  {
   "cell_type": "code",
   "execution_count": 87,
   "id": "9a59112b-aade-4b28-9119-4fdf110141cf",
   "metadata": {},
   "outputs": [
    {
     "data": {
      "text/html": [
       "<div>\n",
       "<style scoped>\n",
       "    .dataframe tbody tr th:only-of-type {\n",
       "        vertical-align: middle;\n",
       "    }\n",
       "\n",
       "    .dataframe tbody tr th {\n",
       "        vertical-align: top;\n",
       "    }\n",
       "\n",
       "    .dataframe thead th {\n",
       "        text-align: right;\n",
       "    }\n",
       "</style>\n",
       "<table border=\"1\" class=\"dataframe\">\n",
       "  <thead>\n",
       "    <tr style=\"text-align: right;\">\n",
       "      <th></th>\n",
       "      <th>term</th>\n",
       "      <th>emp_length</th>\n",
       "      <th>mths_since_earliest_cr_line</th>\n",
       "      <th>mths_since_issue_d</th>\n",
       "      <th>mths_since_last_pymnt_d</th>\n",
       "      <th>mths_since_last_credit_pull_d</th>\n",
       "    </tr>\n",
       "  </thead>\n",
       "  <tbody>\n",
       "    <tr>\n",
       "      <th>0</th>\n",
       "      <td>3.830590e-12</td>\n",
       "      <td>-9.197383e-12</td>\n",
       "      <td>-4.728356e-08</td>\n",
       "      <td>-0.000002</td>\n",
       "      <td>0.000002</td>\n",
       "      <td>-8.191185e-07</td>\n",
       "    </tr>\n",
       "  </tbody>\n",
       "</table>\n",
       "</div>"
      ],
      "text/plain": [
       "           term    emp_length  mths_since_earliest_cr_line  \\\n",
       "0  3.830590e-12 -9.197383e-12                -4.728356e-08   \n",
       "\n",
       "   mths_since_issue_d  mths_since_last_pymnt_d  mths_since_last_credit_pull_d  \n",
       "0           -0.000002                 0.000002                  -8.191185e-07  "
      ]
     },
     "execution_count": 87,
     "metadata": {},
     "output_type": "execute_result"
    }
   ],
   "source": [
    "df_coeff = pd.DataFrame(model1.coef_, columns=X_train.columns)\n",
    "df_coeff"
   ]
  },
  {
   "cell_type": "markdown",
   "id": "18ae5166-69f0-402f-bd22-b59134900f3f",
   "metadata": {},
   "source": [
    "term = semakin tinggi jangka waktu melunasi hutangnya semakin tinggikemungkinan gagal bayarnya"
   ]
  },
  {
   "cell_type": "markdown",
   "id": "ad748c0f-52e4-42e5-8ff9-623ea0dc6cb9",
   "metadata": {},
   "source": [
    "emp_length = semakin tinggi nilai negatifnya (semakin banyak pengalaman) kemungkinan untuk gagal bayarnya semakin rendah"
   ]
  },
  {
   "cell_type": "markdown",
   "id": "7b97c0cf-ef67-49a8-9552-23536a02adc8",
   "metadata": {},
   "source": [
    "mths_since_earliest_cr_line = semakin tinggi nilai negatifnya (umur credit line semakin lama) kemungkinan gagal bayar semakin rendah"
   ]
  },
  {
   "cell_type": "markdown",
   "id": "fc524488-cc0d-4ca5-b310-5a1266e09b7b",
   "metadata": {},
   "source": [
    "mths_since_issue_d = semakin rendah nilai negatifnya (waktu uang dicairkan semakin lama), semakin tinggi kemungkinan gagal bayarnya "
   ]
  },
  {
   "cell_type": "markdown",
   "id": "86df4e01-62ec-4946-a067-4420fecaa635",
   "metadata": {},
   "source": [
    "mths_since_last_pymnt_d = semakin tinggi nilai positifnya (semakin lama pembayaran terakhirnya), semakin tinggi kemungkinan gagal bayar"
   ]
  },
  {
   "cell_type": "code",
   "execution_count": 88,
   "id": "aa4490fe-497f-4e69-80b1-f07dcd12b644",
   "metadata": {},
   "outputs": [
    {
     "data": {
      "text/html": [
       "<div>\n",
       "<style scoped>\n",
       "    .dataframe tbody tr th:only-of-type {\n",
       "        vertical-align: middle;\n",
       "    }\n",
       "\n",
       "    .dataframe tbody tr th {\n",
       "        vertical-align: top;\n",
       "    }\n",
       "\n",
       "    .dataframe thead th {\n",
       "        text-align: right;\n",
       "    }\n",
       "</style>\n",
       "<table border=\"1\" class=\"dataframe\">\n",
       "  <thead>\n",
       "    <tr style=\"text-align: right;\">\n",
       "      <th></th>\n",
       "      <th>term</th>\n",
       "      <th>emp_length</th>\n",
       "      <th>mths_since_earliest_cr_line</th>\n",
       "      <th>mths_since_issue_d</th>\n",
       "      <th>mths_since_last_pymnt_d</th>\n",
       "      <th>mths_since_last_credit_pull_d</th>\n",
       "    </tr>\n",
       "  </thead>\n",
       "  <tbody>\n",
       "    <tr>\n",
       "      <th>335623</th>\n",
       "      <td>60</td>\n",
       "      <td>9</td>\n",
       "      <td>16655040.0</td>\n",
       "      <td>4953600.0</td>\n",
       "      <td>4163040.0</td>\n",
       "      <td>4163040.0</td>\n",
       "    </tr>\n",
       "    <tr>\n",
       "      <th>82177</th>\n",
       "      <td>36</td>\n",
       "      <td>2</td>\n",
       "      <td>15340320.0</td>\n",
       "      <td>5346720.0</td>\n",
       "      <td>5258880.0</td>\n",
       "      <td>5041440.0</td>\n",
       "    </tr>\n",
       "    <tr>\n",
       "      <th>339560</th>\n",
       "      <td>36</td>\n",
       "      <td>10</td>\n",
       "      <td>15648480.0</td>\n",
       "      <td>4953600.0</td>\n",
       "      <td>4603680.0</td>\n",
       "      <td>4603680.0</td>\n",
       "    </tr>\n",
       "    <tr>\n",
       "      <th>429575</th>\n",
       "      <td>36</td>\n",
       "      <td>10</td>\n",
       "      <td>12533760.0</td>\n",
       "      <td>5129280.0</td>\n",
       "      <td>4383360.0</td>\n",
       "      <td>4163040.0</td>\n",
       "    </tr>\n",
       "    <tr>\n",
       "      <th>264917</th>\n",
       "      <td>36</td>\n",
       "      <td>1</td>\n",
       "      <td>11966400.0</td>\n",
       "      <td>4821120.0</td>\n",
       "      <td>4295520.0</td>\n",
       "      <td>4163040.0</td>\n",
       "    </tr>\n",
       "  </tbody>\n",
       "</table>\n",
       "</div>"
      ],
      "text/plain": [
       "        term  emp_length  mths_since_earliest_cr_line  mths_since_issue_d  \\\n",
       "335623    60           9                   16655040.0           4953600.0   \n",
       "82177     36           2                   15340320.0           5346720.0   \n",
       "339560    36          10                   15648480.0           4953600.0   \n",
       "429575    36          10                   12533760.0           5129280.0   \n",
       "264917    36           1                   11966400.0           4821120.0   \n",
       "\n",
       "        mths_since_last_pymnt_d  mths_since_last_credit_pull_d  \n",
       "335623                4163040.0                      4163040.0  \n",
       "82177                 5258880.0                      5041440.0  \n",
       "339560                4603680.0                      4603680.0  \n",
       "429575                4383360.0                      4163040.0  \n",
       "264917                4295520.0                      4163040.0  "
      ]
     },
     "execution_count": 88,
     "metadata": {},
     "output_type": "execute_result"
    }
   ],
   "source": [
    "X_train.head()"
   ]
  },
  {
   "cell_type": "code",
   "execution_count": null,
   "id": "705477e9-bc5d-4d0e-b5f2-2c6d7d42fbba",
   "metadata": {},
   "outputs": [],
   "source": []
  }
 ],
 "metadata": {
  "kernelspec": {
   "display_name": "Python 3 (ipykernel)",
   "language": "python",
   "name": "python3"
  },
  "language_info": {
   "codemirror_mode": {
    "name": "ipython",
    "version": 3
   },
   "file_extension": ".py",
   "mimetype": "text/x-python",
   "name": "python",
   "nbconvert_exporter": "python",
   "pygments_lexer": "ipython3",
   "version": "3.12.0"
  }
 },
 "nbformat": 4,
 "nbformat_minor": 5
}
